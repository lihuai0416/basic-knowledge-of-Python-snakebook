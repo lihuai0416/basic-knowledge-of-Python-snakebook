{
 "cells": [
  {
   "cell_type": "markdown",
   "metadata": {},
   "source": [
    " <font size=\"5\">第五章作业(2024.11.13)"
   ]
  },
  {
   "cell_type": "code",
   "execution_count": 3,
   "metadata": {},
   "outputs": [
    {
     "name": "stdout",
     "output_type": "stream",
     "text": [
      "Is car == \"Benz\"?I predict True.\n",
      "True\n"
     ]
    }
   ],
   "source": [
    "# 5.1\n",
    "car = \"Benz\"\n",
    "print ('Is car == \"Benz\"?I predict True.')\n",
    "print (car == \"Benz\")\n"
   ]
  },
  {
   "cell_type": "code",
   "execution_count": 11,
   "metadata": {},
   "outputs": [
    {
     "name": "stdout",
     "output_type": "stream",
     "text": [
      "False\n",
      "True\n",
      "False\n",
      "True\n",
      "True\n",
      "False\n",
      "True\n",
      "True\n",
      "False\n"
     ]
    }
   ],
   "source": [
    "#5.2\n",
    "print(\"LH\" == \"LY\")\n",
    "print(\"LH\" == \"LH\")\n",
    "print(\"LH\" == \"lh\")\n",
    "name = \"LH\"\n",
    "print(name.lower() == \"lh\")\n",
    "print(8>=5)\n",
    "print(8>=5 and 8<=7)\n",
    "print(8>=5 or 8<=7)\n",
    "car = [\"bmw\",\"audi\",\"toyota\",\"subaru\"]\n",
    "print(\"bmw\" in car)\n",
    "print(\"benz\" in car)"
   ]
  },
  {
   "cell_type": "code",
   "execution_count": 12,
   "metadata": {},
   "outputs": [
    {
     "name": "stdout",
     "output_type": "stream",
     "text": [
      "You just earned 5 points!\n"
     ]
    }
   ],
   "source": [
    "#5.3 - 1\n",
    "alien_color = \"green\"\n",
    "if alien_color == \"green\":\n",
    "    print(\"You just earned 5 points!\")"
   ]
  },
  {
   "cell_type": "code",
   "execution_count": null,
   "metadata": {},
   "outputs": [],
   "source": [
    "#5.3 - 2\n",
    "alien_color = \"green\"\n",
    "if alien_color == \"red\":\n",
    "    print(\"You just earned 5 points!\")\n",
    "#没有输出"
   ]
  },
  {
   "cell_type": "code",
   "execution_count": 14,
   "metadata": {},
   "outputs": [
    {
     "name": "stdout",
     "output_type": "stream",
     "text": [
      "You just earned 5 points!\n"
     ]
    }
   ],
   "source": [
    "#5.4 - 1\n",
    "alien_color = \"green\"\n",
    "if alien_color == \"green\":\n",
    "    print(\"You just earned 5 points!\")\n",
    "else:\n",
    "    print(\"You just earned 10 points!\")"
   ]
  },
  {
   "cell_type": "code",
   "execution_count": 15,
   "metadata": {},
   "outputs": [
    {
     "name": "stdout",
     "output_type": "stream",
     "text": [
      "You just earned 10 points!\n"
     ]
    }
   ],
   "source": [
    "#5.4 - 2\n",
    "alien_color = \"red\"\n",
    "if alien_color == \"green\":\n",
    "    print(\"You just earned 5 points!\")\n",
    "else:\n",
    "    print(\"You just earned 10 points!\")"
   ]
  },
  {
   "cell_type": "code",
   "execution_count": null,
   "metadata": {},
   "outputs": [
    {
     "name": "stdout",
     "output_type": "stream",
     "text": [
      "You just earned 5 points!\n"
     ]
    }
   ],
   "source": [
    "#5.5 - 1\n",
    "alien_color = \"green\"\n",
    "if alien_color == \"green\":\n",
    "    print(\"You just earned 5 points!\")\n",
    "elif alien_color == \"yellow\":\n",
    "    print(\"You just earned 10 points!\")\n",
    "else:\n",
    "    print(\"You just earned 15 points!\")\n",
    "#5.5 - 2\n",
    "alien_color = \"red\"\n",
    "#5.5 - 3\n",
    "alien_color = \"yellow\""
   ]
  },
  {
   "cell_type": "code",
   "execution_count": null,
   "metadata": {},
   "outputs": [
    {
     "name": "stdout",
     "output_type": "stream",
     "text": [
      "中青年人\n"
     ]
    }
   ],
   "source": [
    "#5.6\n",
    "age = 22\n",
    "if age < 2:\n",
    "    print(\"婴儿\")\n",
    "elif age < 4:\n",
    "    print(\"幼儿\")\n",
    "elif age < 13:\n",
    "    print(\"儿童\")\n",
    "elif age < 18:\n",
    "    print(\"少年\")\n",
    "elif age < 65:\n",
    "    print(\"中青年人\")\n",
    "else:\n",
    "    print(\"老年人\")"
   ]
  },
  {
   "cell_type": "code",
   "execution_count": null,
   "metadata": {},
   "outputs": [
    {
     "name": "stdout",
     "output_type": "stream",
     "text": [
      "You really like apple!\n",
      "You really like banana!\n",
      "You really like orange!\n"
     ]
    }
   ],
   "source": [
    "# 5.7\n",
    "My_favourite_food = [\"apple\",\"banana\",\"orange\"]\n",
    "if \"apple\" in My_favourite_food:\n",
    "    print(\"You really like apple!\")\n",
    "if \"banana\" in My_favourite_food:\n",
    "    print(\"You really like banana!\")\n",
    "if \"orange\" in My_favourite_food:\n",
    "    print(\"You really like orange!\")\n",
    "if \"watermelon\" in My_favourite_food:\n",
    "    print(\"You really like watermelon!\")\n",
    "if \"pear\" in My_favourite_food:\n",
    "    print(\"You really like pear!\")"
   ]
  },
  {
   "cell_type": "code",
   "execution_count": 20,
   "metadata": {},
   "outputs": [
    {
     "name": "stdout",
     "output_type": "stream",
     "text": [
      "Hello admin,would you like to see a status report?\n",
      "Hello bdmin,thank you for logging in again.\n",
      "Hello cdmin,thank you for logging in again.\n",
      "Hello ddmin,thank you for logging in again.\n",
      "Hello edmin,thank you for logging in again.\n"
     ]
    }
   ],
   "source": [
    "# 5.8\n",
    "users = [\"admin\",\"bdmin\",\"cdmin\",\"ddmin\",\"edmin\"]\n",
    "for user in users:\n",
    "    if user == \"admin\":\n",
    "        print(\"Hello admin,would you like to see a status report?\")\n",
    "    else:\n",
    "        print(f\"Hello {user},thank you for logging in again.\")"
   ]
  },
  {
   "cell_type": "code",
   "execution_count": null,
   "metadata": {},
   "outputs": [
    {
     "name": "stdout",
     "output_type": "stream",
     "text": [
      "We need to find some users!\n"
     ]
    }
   ],
   "source": [
    "# 5.9\n",
    "users = [\"admin\",\"bdmin\",\"cdmin\",\"ddmin\",\"edmin\"]\n",
    "del users[:]\n",
    "if users:                 #单独一个列表名，表示列表非空\n",
    "    for user in users:\n",
    "        if user == \"admin\":\n",
    "            print(\"Hello admin,would you like to see a status report?\")\n",
    "        else:\n",
    "            print(f\"Hello {user},thank you for logging in again.\")\n",
    "else:\n",
    "    print(\"We need to find some users!\")"
   ]
  },
  {
   "cell_type": "code",
   "execution_count": 44,
   "metadata": {},
   "outputs": [
    {
     "name": "stdout",
     "output_type": "stream",
     "text": [
      "Alice is already exist\n",
      "Eric is available\n",
      "Frank is available\n",
      "Grace is available\n",
      "David is already exist\n"
     ]
    }
   ],
   "source": [
    "# 5.10\n",
    "current_users = ['admin','Alice','Bob','Cindy','David']\n",
    "current_users2 = []\n",
    "for current_user in current_users:\n",
    "    current_users2.append(current_user.lower())\n",
    "\n",
    "new_users = ['Alice','Eric','Frank','Grace','David']\n",
    "for new_user in new_users:\n",
    "    if new_user.lower() in current_users2:\n",
    "        print(f\"{new_user} is already exist\")\n",
    "    else:\n",
    "        print(f\"{new_user} is available\")"
   ]
  },
  {
   "cell_type": "code",
   "execution_count": null,
   "metadata": {},
   "outputs": [
    {
     "name": "stdout",
     "output_type": "stream",
     "text": [
      "1st\n",
      "1th\n",
      "2nd\n",
      "2th\n",
      "3rd\n",
      "4th\n",
      "5th\n",
      "6th\n",
      "7th\n",
      "8th\n",
      "9th\n"
     ]
    }
   ],
   "source": [
    "# 5.11 - 错\n",
    "list2 = []\n",
    "for value in range(1,10):\n",
    "    list2.append(value)\n",
    "    #这里创建数字1-9的列表复杂了 可以直接如下行所示\n",
    "list3 = list(range(1,10))\n",
    "for value in list2:\n",
    "    if value == 1:\n",
    "        print(f\"{value}st\")\n",
    "    if value == 2:\n",
    "        print(f\"{value}nd\")\n",
    "    if value == 3:\n",
    "        print(f\"{value}rd\")\n",
    "    else:\n",
    "        print(f\"{value}th\")\n",
    "#else语句和最后一个if相关联，输入1时，先1st满足输出，然后不等于2不等于3，进而输出else"
   ]
  },
  {
   "cell_type": "code",
   "execution_count": 52,
   "metadata": {},
   "outputs": [
    {
     "name": "stdout",
     "output_type": "stream",
     "text": [
      "yes\n",
      "damn\n"
     ]
    }
   ],
   "source": [
    "#错误再试探\n",
    "num = 1\n",
    "if num == 1:\n",
    "    print(\"yes\")\n",
    "if num == 2:\n",
    "    print(\"no\")\n",
    "if num == 3:\n",
    "    print(\"maybe\")\n",
    "else:\n",
    "    print(\"damn\")"
   ]
  },
  {
   "cell_type": "code",
   "execution_count": 47,
   "metadata": {},
   "outputs": [
    {
     "name": "stdout",
     "output_type": "stream",
     "text": [
      "1st\n",
      "2nd\n",
      "3rd\n",
      "4th\n",
      "5th\n",
      "6th\n",
      "7th\n",
      "8th\n",
      "9th\n"
     ]
    }
   ],
   "source": [
    "# 5.11\n",
    "list2 = []\n",
    "for value in range(1,10):\n",
    "    list2.append(value)\n",
    "for value in list2:\n",
    "    if value == 1:\n",
    "        print(f\"{value}st\")\n",
    "    elif value == 2:\n",
    "        print(f\"{value}nd\")\n",
    "    elif value == 3:\n",
    "        print(f\"{value}rd\")\n",
    "    else:\n",
    "        print(f\"{value}th\")"
   ]
  },
  {
   "cell_type": "code",
   "execution_count": null,
   "metadata": {},
   "outputs": [],
   "source": []
  }
 ],
 "metadata": {
  "kernelspec": {
   "display_name": "Python 3",
   "language": "python",
   "name": "python3"
  },
  "language_info": {
   "codemirror_mode": {
    "name": "ipython",
    "version": 3
   },
   "file_extension": ".py",
   "mimetype": "text/x-python",
   "name": "python",
   "nbconvert_exporter": "python",
   "pygments_lexer": "ipython3",
   "version": "3.12.2"
  }
 },
 "nbformat": 4,
 "nbformat_minor": 2
}
