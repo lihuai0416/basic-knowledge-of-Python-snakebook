{
 "cells": [
  {
   "cell_type": "markdown",
   "metadata": {
    "vscode": {
     "languageId": "plaintext"
    }
   },
   "source": [
    " <font size=\"5\">第四章 操作列表 (2024.11.11)"
   ]
  },
  {
   "cell_type": "markdown",
   "metadata": {
    "vscode": {
     "languageId": "plaintext"
    }
   },
   "source": [
    " <font size=\"4\">4.1 遍历整个列表"
   ]
  },
  {
   "cell_type": "code",
   "execution_count": 1,
   "metadata": {},
   "outputs": [
    {
     "name": "stdout",
     "output_type": "stream",
     "text": [
      "alice\n",
      "david\n",
      "carolina\n"
     ]
    }
   ],
   "source": [
    "magicians = ['alice', 'david', 'carolina']\n",
    "for magician in magicians:\n",
    "    print(magician)"
   ]
  },
  {
   "cell_type": "code",
   "execution_count": 5,
   "metadata": {},
   "outputs": [
    {
     "name": "stdout",
     "output_type": "stream",
     "text": [
      "Alice is a great magician!\n",
      "I can't wait to see your next trick, Alice.\n",
      "\n",
      "David is a great magician!\n",
      "I can't wait to see your next trick, David.\n",
      "\n",
      "Carolina is a great magician!\n",
      "I can't wait to see your next trick, Carolina.\n",
      "\n",
      "Thank you, everyone. That was a great magic show!\n"
     ]
    }
   ],
   "source": [
    "magicians = ['alice', 'david', 'carolina']\n",
    "for magician in magicians:\n",
    "    print(f\"{magician.title()} is a great magician!\")\n",
    "    print(f\"I can't wait to see your next trick, {magician.title()}.\\n\")\n",
    "    #注意其中作用方式 缩进代表其在循环作用内,而且是吧循环内作用完毕后再回到第一行\n",
    "print(\"Thank you, everyone. That was a great magic show!\")"
   ]
  },
  {
   "cell_type": "code",
   "execution_count": null,
   "metadata": {},
   "outputs": [
    {
     "name": "stdout",
     "output_type": "stream",
     "text": [
      "Alice is a great magician!\n",
      "I can't wait to see your next trick, Alice.\n",
      "\n",
      "Thank you, everyone. That was a great magic show!\n",
      "David is a great magician!\n",
      "I can't wait to see your next trick, David.\n",
      "\n",
      "Thank you, everyone. That was a great magic show!\n",
      "Carolina is a great magician!\n",
      "I can't wait to see your next trick, Carolina.\n",
      "\n",
      "Thank you, everyone. That was a great magic show!\n"
     ]
    }
   ],
   "source": [
    "#试探\n",
    "magicians = ['alice', 'david', 'carolina']\n",
    "for magician in magicians:\n",
    "    print(f\"{magician.title()} is a great magician!\")\n",
    "    print(f\"I can't wait to see your next trick, {magician.title()}.\\n\") \n",
    "    print(\"Thank you, everyone. That was a great magic show!\")\n",
    "    #与上面区分，最后一句在缩进内，所以每次循环都会执行（循环三次，与列表元素数有关）"
   ]
  },
  {
   "cell_type": "markdown",
   "metadata": {},
   "source": [
    " <font size=\"4\">4.2 避免缩进错误"
   ]
  },
  {
   "cell_type": "code",
   "execution_count": null,
   "metadata": {},
   "outputs": [],
   "source": [
    "# eg 1 \n",
    "# magicians = ['alice', 'david', 'carolina']\n",
    "# for magician in magicians:\n",
    "# print(magician)     --此行没有缩进，打印出来会出现错误\n",
    "\n",
    "# eg 2    \n",
    "# magicians = ['alice', 'david', 'carolina']\n",
    "# for magician in magicians:\n",
    "#     print(f\"{magician.title()}, that was a great trick!\")\n",
    "# print(f\"I can't wait to see your next trick, {magician.title()}.\\n\")  \n",
    "#上面最后一行没有缩进，代码没有错误，可以运行。但出现了逻辑错误，最后一行将会打印出carolina的名字，因为变量的终值是carolina。\n",
    "\n",
    "# eg 3\n",
    "# messge = \"Hello Python world!\"\n",
    "#      print(messge)\n",
    "# 并非循环的组成部分，不需要缩进，代码会报错。\n",
    "\n",
    "# eg 4\n",
    "# magicians = ['alice', 'david', 'carolina']\n",
    "# for magician in magicians:\n",
    "#     print(f\"{magician.title()}, that was a great trick!\")\n",
    "#     print(f\"I can't wait to see your next trick, {magician.title()}.\\n\")\n",
    "#     print(\"Thank you, everyone. That was a great magic show!\")\n",
    "# 最后缩进了，代码可以运行，但最后一行会对每位魔术师执行一次，没有必要\n",
    "\n",
    "# eg 5\n",
    "# magicians = ['alice', 'david', 'carolina']\n",
    "# for magician in magicians\n",
    "#     print(magician)\n",
    "# 没有冒号，代码会报错,for magician in magicians:"
   ]
  },
  {
   "cell_type": "markdown",
   "metadata": {},
   "source": [
    " <font size=\"4\">4.3 创建数值列表"
   ]
  },
  {
   "cell_type": "code",
   "execution_count": null,
   "metadata": {},
   "outputs": [
    {
     "name": "stdout",
     "output_type": "stream",
     "text": [
      "1\n",
      "2\n",
      "3\n",
      "4\n",
      "1\n",
      "2\n",
      "3\n",
      "4\n",
      "5\n",
      "0\n",
      "1\n",
      "2\n",
      "3\n",
      "4\n",
      "5\n",
      "6\n"
     ]
    }
   ],
   "source": [
    "#range（）函数\n",
    "for value in range(1,5):\n",
    "    print(value)\n",
    "    #注意 range（1,5）有差一，实际上只会打印1-4，打印1-5需要range（1,6）\n",
    "for value2 in range(1,6):\n",
    "    print(value2)\n",
    "for value3 in range(7):\n",
    "    print(value3)\n",
    "#若range后不指定范围 而是一个数，则是从0开始，到指定的数前一个结束；如7 则打印0-6"
   ]
  },
  {
   "cell_type": "code",
   "execution_count": null,
   "metadata": {},
   "outputs": [
    {
     "name": "stdout",
     "output_type": "stream",
     "text": [
      "[1, 2, 3, 4, 5]\n",
      "[2, 4, 6, 8, 10]\n"
     ]
    }
   ],
   "source": [
    "numbers = list(range(1,6))\n",
    "print(numbers)\n",
    "#list 函数，能讲range（）结果直接转换成列表\n",
    "numbers = list(range(2,11,2))\n",
    "print(numbers)\n",
    "#range()函数使用时，可以指定步长；eg：range（2,11,2）则从2开始到11（实际到10），步长为2\n",
    "#实际效果为从2-11中间（不包含11）的所有偶数"
   ]
  },
  {
   "cell_type": "code",
   "execution_count": null,
   "metadata": {},
   "outputs": [
    {
     "name": "stdout",
     "output_type": "stream",
     "text": [
      "[2, 4, 6, 8, 10]\n"
     ]
    }
   ],
   "source": [
    "#试探\n",
    "numbers = list(range(2,12,2))\n",
    "print(numbers)\n",
    "#如输出结果所示，其与range（）作用范围一致，实际在2-11，所有列表到10，无12"
   ]
  },
  {
   "cell_type": "code",
   "execution_count": 6,
   "metadata": {},
   "outputs": [
    {
     "name": "stdout",
     "output_type": "stream",
     "text": [
      "[1, 4, 9, 16, 25, 36, 49, 64, 81, 100]\n",
      "[1, 4, 9, 16, 25, 36, 49, 64, 81, 100]\n"
     ]
    }
   ],
   "source": [
    "squares = []\n",
    "for value in range(1,11):\n",
    "    square = value**2\n",
    "    squares.append(square)\n",
    "print(squares)  #注意 此处不用缩进，若缩进则为循环一部分\n",
    "#实际效果为打印1-10的平方数\n",
    "# 简洁版\n",
    "squares = []\n",
    "for value in range(1,11):\n",
    "    squares.append(value**2)\n",
    "print(squares)"
   ]
  },
  {
   "cell_type": "code",
   "execution_count": 5,
   "metadata": {},
   "outputs": [
    {
     "name": "stdout",
     "output_type": "stream",
     "text": [
      "[1, 4, 9, 16, 25, 36, 49, 64, 81, 100]\n",
      "[1, 4, 9, 16, 25, 36, 49, 64, 81, 100]\n"
     ]
    }
   ],
   "source": [
    "#复习练习：把输出一个列表，包含1-10的平方\n",
    "list = []\n",
    "for value in range(1,11):\n",
    "    list.append(value**2)\n",
    "print(list)\n",
    "\n",
    "list2 = []\n",
    "for value in range(1,11):\n",
    "    value2 = value**2\n",
    "    list2.append(value2)\n",
    "print(list2)\n",
    "\n",
    "# list3 = list(range(1,11)**2)\n",
    "# print(list3)\n",
    "# 用法错误\n",
    "\n"
   ]
  },
  {
   "cell_type": "code",
   "execution_count": null,
   "metadata": {},
   "outputs": [
    {
     "name": "stdout",
     "output_type": "stream",
     "text": [
      "9\n",
      "0\n",
      "45\n"
     ]
    }
   ],
   "source": [
    "#max/min/sum函数\n",
    "digits = [1,2,3,4,5,6,7,8,9,0]\n",
    "print(max(digits))\n",
    "print(min(digits))\n",
    "print(sum(digits))"
   ]
  },
  {
   "cell_type": "code",
   "execution_count": null,
   "metadata": {},
   "outputs": [
    {
     "name": "stdout",
     "output_type": "stream",
     "text": [
      "[1, 2, 3, 4, 5, 6, 7, 8, 9, 10]\n",
      "[1, 4, 9, 16, 25, 36, 49, 64, 81, 100]\n"
     ]
    }
   ],
   "source": [
    "#列表推导式（list comprehension）\n",
    "squares = [value for value in range(1,11)]\n",
    "print(squares)\n",
    "squares1 = [value**2 for value in range(1,11)]\n",
    "print(squares1)\n",
    "#左括号后指定一个值"
   ]
  },
  {
   "cell_type": "code",
   "execution_count": 6,
   "metadata": {},
   "outputs": [
    {
     "name": "stdout",
     "output_type": "stream",
     "text": [
      "[1, 4, 9, 16, 25, 36, 49, 64, 81, 100]\n"
     ]
    }
   ],
   "source": [
    "#复习：用列表推导式输出1-10的平方\n",
    "squares = [value**2 for value in range(1,11) ]\n",
    "print(squares)"
   ]
  },
  {
   "cell_type": "markdown",
   "metadata": {},
   "source": [
    " <font size=\"4\">4.4 使用列表的一部分\n",
    " "
   ]
  },
  {
   "cell_type": "code",
   "execution_count": null,
   "metadata": {},
   "outputs": [
    {
     "name": "stdout",
     "output_type": "stream",
     "text": [
      "['lh', 'wch', 'zj']\n",
      "['wch', 'zj', 'jxy']\n",
      "['lh', 'wch', 'zj']\n",
      "['wch', 'zj', 'jxy']\n",
      "['lh', 'zj', 'ljn']\n"
     ]
    }
   ],
   "source": [
    "#切片（slice）\n",
    "players = [\"lh\",\"wch\",\"zj\",\"jxy\"]\n",
    "print(players[0:3])\n",
    "#此处表示从索引0开始，到索引2结束（3的前一个）；与range一样列表中末尾总有差一。\n",
    "#若要提取第2、3、4个元素\n",
    "#简单记忆：前面是索引位置 后面是第几个(后面是正数时)，后面为负数按索引前一个处理（通法）\n",
    "print(players[1:4])\n",
    "print(players[:3])\n",
    "#没有指定索引，从开头开始\n",
    "print(players[-3:])\n",
    "#没有终止索引，即到最后一个；-3即从倒数第三个开始；用于打印最后三个\n",
    "players2 = [\"lh\",\"wch\",\"zj\",\"jxy\",\"ljn\",\"yyh\"]\n",
    "print(players2[0:6:2])\n",
    "#末尾再添加数字可以指定隔多少元素打印"
   ]
  },
  {
   "cell_type": "code",
   "execution_count": null,
   "metadata": {},
   "outputs": [
    {
     "name": "stdout",
     "output_type": "stream",
     "text": [
      "Here are first three players in our team:\n",
      "lh\n",
      "wch\n",
      "zj\n"
     ]
    }
   ],
   "source": [
    "#遍历切片\n",
    "players = [\"lh\",\"wch\",\"zj\",\"jxy\",\"ljn\",\"yyh\"]\n",
    "print(\"Here are first three players in our team:\")\n",
    "for player in players[0:-3]:\n",
    "    print(player)\n",
    "    #for循环挨着提取，从索引0 - 索引-3前一个挨着打印"
   ]
  },
  {
   "cell_type": "code",
   "execution_count": 31,
   "metadata": {},
   "outputs": [
    {
     "name": "stdout",
     "output_type": "stream",
     "text": [
      "My favourite food is:\n",
      "['pizza', 'coke', 'falafel']\n",
      "\n",
      "My friend favourite food is:\n",
      "['pizza', 'coke', 'falafel']\n",
      "\n",
      "My favourite food is:\n",
      "['pizza', 'coke', 'falafel', 'ice_cream']\n",
      "\n",
      "My friend favourite food is:\n",
      "['pizza', 'coke', 'falafel', 'cake']\n"
     ]
    }
   ],
   "source": [
    "#复制列表  核心：[:]表示遍历整个列表\n",
    "my_foods = [\"pizza\",\"coke\",\"falafel\"]\n",
    "#friends_foods = my_foods 这一步是行不通的，否则在变更列表时（如后续append），两者会同时改变\n",
    "friends_foods = my_foods[:]  #这一步才是复制列表的标准操作\n",
    "print(\"My favourite food is:\")\n",
    "print(my_foods)\n",
    "print(\"\\nMy friend favourite food is:\")  #注意\\n的位置，在字符串内\n",
    "print(friends_foods)\n",
    "my_foods.append(\"ice_cream\")\n",
    "friends_foods.append(\"cake\")\n",
    "print(\"\\nMy favourite food is:\")\n",
    "print(my_foods)\n",
    "print(\"\\nMy friend favourite food is:\")\n",
    "print(friends_foods)\n"
   ]
  },
  {
   "cell_type": "code",
   "execution_count": 34,
   "metadata": {},
   "outputs": [
    {
     "name": "stdout",
     "output_type": "stream",
     "text": [
      "My favourite foods are:\n",
      "pizza\n",
      "coke\n",
      "falafel\n",
      "My friend favourite foods are:\n",
      "pizza\n",
      "coke\n",
      "falafel\n"
     ]
    }
   ],
   "source": [
    "#将上述用for循环打印一样的\n",
    "my_foods = [\"pizza\",\"coke\",\"falafel\"]\n",
    "friends_foods = my_foods[:] \n",
    "print(\"My favourite foods are:\")\n",
    "for food in my_foods:\n",
    "    print(food)\n",
    "print(\"My friend favourite foods are:\")\n",
    "for food2 in friends_foods:\n",
    "    print(food2)\n",
    "    #余下同理"
   ]
  },
  {
   "cell_type": "markdown",
   "metadata": {},
   "source": [
    " <font size=\"4\">4.5 元组"
   ]
  },
  {
   "cell_type": "code",
   "execution_count": null,
   "metadata": {},
   "outputs": [
    {
     "name": "stdout",
     "output_type": "stream",
     "text": [
      "200\n",
      "50\n"
     ]
    }
   ],
   "source": [
    "#元素不可变的列表：元组（tuple）\n",
    "dimension = (200,50)\n",
    "#与列表不同，元组用圆括号表示，中间元素用逗号隔开\n",
    "print(dimension[0])\n",
    "print(dimension[1])\n",
    "# dimension[0] = 100 这一步是不被允许的，会报错，元组不允许修改\n",
    "# 如果是只包含一个元素的元组，需要在这个元素后面加上逗号\n",
    "my_age = (22,)"
   ]
  },
  {
   "cell_type": "code",
   "execution_count": 27,
   "metadata": {},
   "outputs": [
    {
     "name": "stdout",
     "output_type": "stream",
     "text": [
      "50\n",
      "100\n",
      "200\n"
     ]
    }
   ],
   "source": [
    "#遍历元组中的所有值（与列表同理）\n",
    "dimensions = (50,100,200)\n",
    "for dimension in dimensions:\n",
    "    print(dimension)"
   ]
  },
  {
   "cell_type": "code",
   "execution_count": 1,
   "metadata": {},
   "outputs": [
    {
     "name": "stdout",
     "output_type": "stream",
     "text": [
      "Original dimensions:\n",
      "50\n",
      "100\n",
      "200\n",
      "\n",
      "Modified dimensions:\n",
      "8\n",
      "88\n",
      "888\n"
     ]
    }
   ],
   "source": [
    "#修改元组变量 虽然不能改变元组的元素，但可以给表示元组的变量赋值\n",
    "dimensions = (50,100,200)\n",
    "print(\"Original dimensions:\")\n",
    "for dimension in dimensions:\n",
    "    print(dimension)\n",
    "\n",
    "dimensions = (8,88,888)\n",
    "print(\"\\nModified dimensions:\")\n",
    "for dimension in dimensions:\n",
    "    print(dimension)"
   ]
  },
  {
   "cell_type": "markdown",
   "metadata": {},
   "source": [
    " <font size=\"4\">4.6 设置代码格式"
   ]
  },
  {
   "cell_type": "code",
   "execution_count": 30,
   "metadata": {},
   "outputs": [],
   "source": [
    "# PEP-8 (Python Enhancement Proposal) - Python增强提案\n",
    "# 建议每级缩进都使用4 Tab- 四个空格\n",
    "# 行长一般不超过79个字符 注释行长一般不超过72个字符\n",
    "# 空行分布要合理"
   ]
  }
 ],
 "metadata": {
  "kernelspec": {
   "display_name": "Python 3",
   "language": "python",
   "name": "python3"
  },
  "language_info": {
   "codemirror_mode": {
    "name": "ipython",
    "version": 3
   },
   "file_extension": ".py",
   "mimetype": "text/x-python",
   "name": "python",
   "nbconvert_exporter": "python",
   "pygments_lexer": "ipython3",
   "version": "3.12.2"
  }
 },
 "nbformat": 4,
 "nbformat_minor": 2
}
