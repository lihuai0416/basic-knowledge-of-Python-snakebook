{
 "cells": [
  {
   "cell_type": "markdown",
   "metadata": {},
   "source": [
    " <font size=\"5\">第二章 变量和简单的数据类型 (2024.11.07)"
   ]
  },
  {
   "cell_type": "markdown",
   "metadata": {},
   "source": [
    " <font size=\"2\">部分快捷键\n",
    " 选中代码，Ctrl+]：缩进代码块  Ctrl+[：取消缩进  \n",
    " 选中代码，Ctrl+/：禁用代码块（注释掉），再操作一次取消注释  \n",
    " 选中代码，Alt+上下方向键：移动代码块（单行在该行仍以位置点击即可选中开始移动）  \n",
    " 隐藏/显示资源管理器：Ctrl+B  \n",
    " jupyter里运行快捷键：Shift+Enter  "
   ]
  },
  {
   "cell_type": "markdown",
   "metadata": {},
   "source": [
    "\n",
    " <font size=\"4\">2.2 变量"
   ]
  },
  {
   "cell_type": "code",
   "execution_count": 5,
   "metadata": {},
   "outputs": [
    {
     "name": "stdout",
     "output_type": "stream",
     "text": [
      "Hello Python world!\n"
     ]
    }
   ],
   "source": [
    "print(\"Hello Python world!\")"
   ]
  },
  {
   "cell_type": "code",
   "execution_count": null,
   "metadata": {},
   "outputs": [
    {
     "name": "stdout",
     "output_type": "stream",
     "text": [
      "Hello Python World!\n"
     ]
    }
   ],
   "source": [
    "message = \"Hello Python World!\"\n",
    "print(message)\n",
    "#message-变量（variable），对应指向一个值（value）；"
   ]
  },
  {
   "cell_type": "code",
   "execution_count": 3,
   "metadata": {},
   "outputs": [
    {
     "name": "stdout",
     "output_type": "stream",
     "text": [
      "Hello Python World!\n",
      "Hello Python Crash Course World!\n"
     ]
    }
   ],
   "source": [
    "message = \"Hello Python World!\"\n",
    "print(message)\n",
    "message = \"Hello Python Crash Course World!\"\n",
    "print(message)\n",
    "#程序中可以随时修改变量的值，总会记录最新的变量"
   ]
  },
  {
   "cell_type": "markdown",
   "metadata": {},
   "source": [
    " <font size=\"2\">注意事项  \n",
    "1.变量名字只能包含字母、数字、下划线；只能字母or下划线开头（！数字不行）  \n",
    "2.变量名不能包含空格  \n",
    "3.不用python中关键字/函数名当变量名；eg：print作为变量名  \n",
    "4.慎用l和O,容易被当作1和0  \n",
    "5.变量：可以被赋值的标签/变量指向特定的值"
   ]
  },
  {
   "cell_type": "markdown",
   "metadata": {},
   "source": [
    "<font size=\"4\">2.3 字符串"
   ]
  },
  {
   "cell_type": "markdown",
   "metadata": {},
   "source": [
    " <font size=\"2\">字符串（string）：一系列字符--用单引号or双引号均可--用于灵活的在字符串中包含引号和撇号\n"
   ]
  },
  {
   "cell_type": "code",
   "execution_count": 4,
   "metadata": {},
   "outputs": [
    {
     "name": "stdout",
     "output_type": "stream",
     "text": [
      "Li Huai\n",
      "LI HUAI\n",
      "li huai\n"
     ]
    }
   ],
   "source": [
    "name = \"li huai\"\n",
    "print(name.title())\n",
    "# title()相当于一个方法（method）， .的作用相当于使title作用于前面的变量name  - 首字母大写，其余字母小写\n",
    "# （）内相当于备注额外的信息，没有则空\n",
    "print(name.upper())\n",
    "print(name.lower())\n",
    "# 同理 .lower()将变量名中的所有字母变为小写；.upper()将变量名中的所有字母变为大写"
   ]
  },
  {
   "cell_type": "code",
   "execution_count": 5,
   "metadata": {},
   "outputs": [
    {
     "name": "stdout",
     "output_type": "stream",
     "text": [
      "Li Huai\n",
      "Hello li huai!\n",
      "Wow, li huai is very handsome!\n"
     ]
    }
   ],
   "source": [
    "first_name = \"Li\"\n",
    "last_name = \"Huai\"\n",
    "full_name = f\"{first_name} {last_name}\"\n",
    "print(full_name)\n",
    "#f字符串（format）：在字符串前加f，将{}内变量替换为其值。\n",
    "print(f\"Hello {full_name.lower()}!\")\n",
    "#f字符串作用的是后面\"\"内的整体\n",
    "message = f\"Wow, {full_name.lower()} is very handsome!\"\n",
    "print(message)"
   ]
  },
  {
   "cell_type": "code",
   "execution_count": null,
   "metadata": {},
   "outputs": [
    {
     "name": "stdout",
     "output_type": "stream",
     "text": [
      "RSE\n",
      "\tRSE\n",
      "\n",
      "RSE\n"
     ]
    }
   ],
   "source": [
    "print(\"RSE\")\n",
    "print(\"\\tRSE\")\n",
    "print(\"\\nRSE\")\n",
    "#制表符\\t    换行符\\n\n",
    "#两符只能在字符串中使用"
   ]
  },
  {
   "cell_type": "code",
   "execution_count": null,
   "metadata": {},
   "outputs": [
    {
     "name": "stdout",
     "output_type": "stream",
     "text": [
      " li huai\n",
      "li huai\n",
      " li huai\n",
      "li huai\n",
      "li huai\n"
     ]
    }
   ],
   "source": [
    "name = \" li huai\"\n",
    "print(name)\n",
    "print(name.lstrip())\n",
    "print(name)\n",
    "name = name.lstrip()\n",
    "print(name)\n",
    "name=name.strip()  #上述去空格作用是暂时的，除非重新对变量赋值（同理其他method）\n",
    "print(name)\n",
    "#lstrip(),rstrip(),strip(),分别表示去左，去右，去左右空格\n",
    "#strip不能去中间空格"
   ]
  },
  {
   "cell_type": "code",
   "execution_count": null,
   "metadata": {},
   "outputs": [
    {
     "name": "stdout",
     "output_type": "stream",
     "text": [
      "www.4399.com\n",
      "4399.com\n",
      "4399\n"
     ]
    }
   ],
   "source": [
    "dream = \"www.4399.com\"\n",
    "print(dream)\n",
    "dream = dream.removeprefix(\"www.\")\n",
    "print(dream)\n",
    "dream = dream.removesuffix(\".com\")\n",
    "print(dream)\n",
    "#removeprefix()表示从字符串开头删除指定的前缀，removesuffix()表示从字符串结尾删除指定的后缀。\n",
    "#从最后一行输出结果可以看出移除永久有效"
   ]
  },
  {
   "cell_type": "code",
   "execution_count": 2,
   "metadata": {},
   "outputs": [
    {
     "name": "stdout",
     "output_type": "stream",
     "text": [
      "www.4399.com\n"
     ]
    }
   ],
   "source": [
    "#试探\n",
    "dream = \"www.4399.com\"\n",
    "dream.removeprefix(\"www.\")\n",
    "print(dream)\n",
    "#可以看出，变量method作用方式与列表中处理方式有区别"
   ]
  },
  {
   "cell_type": "markdown",
   "metadata": {},
   "source": [
    "<font size=\"4\">2.4 数"
   ]
  },
  {
   "cell_type": "code",
   "execution_count": 9,
   "metadata": {},
   "outputs": [
    {
     "name": "stdout",
     "output_type": "stream",
     "text": [
      "5\n",
      "6\n",
      "8\n",
      "14\n",
      "20\n"
     ]
    }
   ],
   "source": [
    "#整数（integer）\n",
    "print(2+3)\n",
    "print(2*3)\n",
    "print(2**3)  #乘方运算\n",
    "print(2+3*4)\n",
    "print((2+3)*4)"
   ]
  },
  {
   "cell_type": "code",
   "execution_count": 10,
   "metadata": {},
   "outputs": [
    {
     "name": "stdout",
     "output_type": "stream",
     "text": [
      "0.2\n",
      "0.30000000000000004\n"
     ]
    }
   ],
   "source": [
    "#浮点数(float)\n",
    "print(0.1+0.1)\n",
    "print(0.1+0.2)  #小数位数可能不确定（后续学如何处理）"
   ]
  },
  {
   "cell_type": "code",
   "execution_count": 3,
   "metadata": {},
   "outputs": [
    {
     "name": "stdout",
     "output_type": "stream",
     "text": [
      "2.0\n",
      "3.0\n",
      "6.0\n",
      "9.0\n",
      "100000000\n"
     ]
    }
   ],
   "source": [
    "print(4/2)  #两个数相除，结果总是浮点数\n",
    "print(1+2.0)\n",
    "print(2*3.0)\n",
    "print(3.0**2)\n",
    "# 整数和浮点数混合运算的结果是浮点数\n",
    "\n",
    "print(1_0000_0000)  #下划线在大数中用于分组，，存储时会忽略___\n",
    "#eg:1_000和10_00和1000都是一样的"
   ]
  },
  {
   "cell_type": "code",
   "execution_count": 3,
   "metadata": {},
   "outputs": [
    {
     "name": "stdout",
     "output_type": "stream",
     "text": [
      "1 2 3\n",
      "2\n",
      "ada lovelace\n",
      "li huai\n"
     ]
    }
   ],
   "source": [
    "#同时给多个变量赋值\n",
    "x,y,z=1,2,3\n",
    "print(x,y,z)\n",
    "print(y)\n",
    "#探索\n",
    "first_name = \"ada\"\n",
    "last_name = \"lovelace\"\n",
    "print (first_name,last_name)  # 打印变量内容，逗号分隔打印出来为一个空格\n",
    "\n",
    "name1,name2 = \"li\",\"huai\"\n",
    "print(f\"{name1} {name2}\")"
   ]
  },
  {
   "cell_type": "markdown",
   "metadata": {},
   "source": [
    " <font size=\"3\">注释书写：前面内容加#即可，解释器自动忽略#后内容"
   ]
  },
  {
   "cell_type": "markdown",
   "metadata": {},
   "source": [
    " <font size=\"4\"> 2.6 Python之禅"
   ]
  },
  {
   "cell_type": "code",
   "execution_count": 13,
   "metadata": {},
   "outputs": [
    {
     "name": "stdout",
     "output_type": "stream",
     "text": [
      "The Zen of Python, by Tim Peters\n",
      "\n",
      "Beautiful is better than ugly.\n",
      "Explicit is better than implicit.\n",
      "Simple is better than complex.\n",
      "Complex is better than complicated.\n",
      "Flat is better than nested.\n",
      "Sparse is better than dense.\n",
      "Readability counts.\n",
      "Special cases aren't special enough to break the rules.\n",
      "Although practicality beats purity.\n",
      "Errors should never pass silently.\n",
      "Unless explicitly silenced.\n",
      "In the face of ambiguity, refuse the temptation to guess.\n",
      "There should be one-- and preferably only one --obvious way to do it.\n",
      "Although that way may not be obvious at first unless you're Dutch.\n",
      "Now is better than never.\n",
      "Although never is often better than *right* now.\n",
      "If the implementation is hard to explain, it's a bad idea.\n",
      "If the implementation is easy to explain, it may be a good idea.\n",
      "Namespaces are one honking great idea -- let's do more of those!\n"
     ]
    }
   ],
   "source": [
    "#python之禅\n",
    "import this"
   ]
  }
 ],
 "metadata": {
  "kernelspec": {
   "display_name": "Python 3",
   "language": "python",
   "name": "python3"
  },
  "language_info": {
   "codemirror_mode": {
    "name": "ipython",
    "version": 3
   },
   "file_extension": ".py",
   "mimetype": "text/x-python",
   "name": "python",
   "nbconvert_exporter": "python",
   "pygments_lexer": "ipython3",
   "version": "3.12.2"
  }
 },
 "nbformat": 4,
 "nbformat_minor": 2
}
