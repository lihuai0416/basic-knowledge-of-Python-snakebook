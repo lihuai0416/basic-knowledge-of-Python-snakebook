{
 "cells": [
  {
   "cell_type": "markdown",
   "metadata": {},
   "source": [
    " <font size=\"5\">第六章作业(2024.11.14)"
   ]
  },
  {
   "cell_type": "code",
   "execution_count": null,
   "metadata": {},
   "outputs": [
    {
     "name": "stdout",
     "output_type": "stream",
     "text": [
      "first:Li\n",
      "last:huai\n",
      "age:22\n",
      "city:chengdu\n"
     ]
    }
   ],
   "source": [
    "#6.1\n",
    "name = {\"first\":\"Li\",\"last\":\"huai\",\"age\":22,\"city\":\"chengdu\"}\n",
    "for key,value in name.items():\n",
    "    print(f\"{key}:{value}\")"
   ]
  },
  {
   "cell_type": "code",
   "execution_count": 2,
   "metadata": {},
   "outputs": [
    {
     "name": "stdout",
     "output_type": "stream",
     "text": [
      "a's favourite number is 1\n",
      "b's favourite number is 2\n",
      "c's favourite number is 3\n",
      "d's favourite number is 4\n",
      "e's favourite number is 5\n"
     ]
    }
   ],
   "source": [
    "#6.2\n",
    "fn = {\"a\":1,\"b\":2,\"c\":3,\"d\":4,\"e\":5}\n",
    "for f,n in fn.items():\n",
    "    print(f\"{f}'s favourite number is {n}\")"
   ]
  },
  {
   "cell_type": "code",
   "execution_count": 3,
   "metadata": {},
   "outputs": [
    {
     "name": "stdout",
     "output_type": "stream",
     "text": [
      "The Nile runs through Egypt.\n",
      "Nile river\n",
      "Egypt country\n",
      "The Amazon runs through South America.\n",
      "Amazon river\n",
      "South America country\n",
      "The Yangtze runs through China.\n",
      "Yangtze river\n",
      "China country\n"
     ]
    }
   ],
   "source": [
    "#6.5\n",
    "rc = {\"nile\":\"egypt\",\"amazon\":\"south america\",\"yangtze\":\"china\"}\n",
    "for river,country in rc.items():\n",
    "    print(f\"The {river.title()} runs through {country.title()}.\")\n",
    "    print(f\"{river.title()} river\")\n",
    "    print(f\"{country.title()} country\")"
   ]
  },
  {
   "cell_type": "code",
   "execution_count": null,
   "metadata": {},
   "outputs": [
    {
     "name": "stdout",
     "output_type": "stream",
     "text": [
      "Thank you jen for taking the poll.\n",
      "Thank you sarah for taking the poll.\n",
      "Thank you edward for taking the poll.\n",
      "Thank you phil for taking the poll.\n",
      "david,please take the poll.\n",
      "frank,please take the poll.\n"
     ]
    }
   ],
   "source": [
    "#6.6\n",
    "favourite_languages = {\n",
    "    \"jen\":\"python\",\n",
    "    \"sarah\":\"c\",\n",
    "    \"edward\":\"rust\",\n",
    "    \"phil\":\"python\",\n",
    "    }\n",
    "list = [\"jen\",\"sarah\",\"edward\",\"phil\",\"david\",\"frank\"]\n",
    "for name in list:\n",
    "    if name in favourite_languages.keys():   #注意 这一步操作对.keys()的理解，将键输出为1个列表\n",
    "        print(f\"Thank you {name} for taking the poll.\")\n",
    "    else:\n",
    "        print(f\"{name},please take the poll.\")"
   ]
  },
  {
   "cell_type": "code",
   "execution_count": null,
   "metadata": {},
   "outputs": [
    {
     "name": "stdout",
     "output_type": "stream",
     "text": [
      "Name is Li Huai\n",
      "Age is 22\n",
      "Name is Li Yu\n",
      "Age is 24\n",
      "Name is Li Wei\n",
      "Age is 23\n"
     ]
    }
   ],
   "source": [
    "#6.7\n",
    "people1 = {\"first\":\"Li\",\"last\":\"huai\",\"age\":22,\"city\":\"chengdu\"}\n",
    "people2 = {\"first\":\"Li\",\"last\":\"yu\",\"age\":24,\"city\":\"chengdu\"}\n",
    "people3 = {\"first\":\"Li\",\"last\":\"wei\",\"age\":23,\"city\":\"chengdu\"}\n",
    "list_Li = [people1,people2,people3]\n",
    "for people in list_Li:\n",
    "    print(f'Name is {people[\"first\"].title()} {people[\"last\"].title()}')\n",
    "    #注意 title（）括号别忘\n",
    "    print(f\"Age is {people[\"age\"]}\")"
   ]
  },
  {
   "cell_type": "code",
   "execution_count": 10,
   "metadata": {},
   "outputs": [
    {
     "name": "stdout",
     "output_type": "stream",
     "text": [
      "Owner:huai\n",
      "Pet:dog\n",
      "\n",
      "\n",
      "Owner:li\n",
      "Pet:cat\n",
      "\n",
      "\n",
      "Owner:wang\n",
      "Pet:fish\n",
      "\n",
      "\n"
     ]
    }
   ],
   "source": [
    "#6.8\n",
    "pet1 = {\"name\":\"dog\",\"owner\":\"huai\"}\n",
    "pet2 = {\"name\":\"cat\",\"owner\":\"li\"}\n",
    "pet3 = {\"name\":\"fish\",\"owner\":\"wang\"}\n",
    "pets = [pet1,pet2,pet3]\n",
    "for pet in pets:\n",
    "    print(f\"Owner:{pet[\"owner\"]}\")\n",
    "    print(f\"Pet:{pet[\"name\"]}\")\n",
    "    print(\"\\n\")"
   ]
  },
  {
   "cell_type": "code",
   "execution_count": 11,
   "metadata": {},
   "outputs": [
    {
     "name": "stdout",
     "output_type": "stream",
     "text": [
      "\n",
      "lihuai\n",
      "\tguangzhou\n",
      "\tlijiang\n",
      "\tbazhong\n",
      "\n",
      "liyu\n",
      "\tgbhg\n",
      "\tbazhong\n",
      "\n",
      "dunengqiong\n",
      "\tchengdu\n"
     ]
    }
   ],
   "source": [
    "#6,9\n",
    "list_place = {\n",
    "    \"lihuai\":[\"guangzhou\",\"lijiang\",\"bazhong\"],\n",
    "    \"liyu\":[\"gbhg\",\"bazhong\"],\n",
    "    \"dunengqiong\":[\"chengdu\"]\n",
    "}\n",
    "for names,places in list_place.items():\n",
    "    print(f\"\\n{names}\")\n",
    "    for place in places:\n",
    "        print(f\"\\t{place}\")"
   ]
  },
  {
   "cell_type": "code",
   "execution_count": null,
   "metadata": {},
   "outputs": [
    {
     "name": "stdout",
     "output_type": "stream",
     "text": [
      "a\n",
      "[1, 2]\n",
      "b\n",
      "[2, 3]\n",
      "c\n",
      "[3, 4, 5]\n",
      "d\n",
      "[4, 9]\n",
      "e\n",
      "[5, 8]\n"
     ]
    }
   ],
   "source": [
    "#6,10\n",
    "fn = {\"a\":[1,2],\n",
    "      \"b\":[2,3],\n",
    "      \"c\":[3,4,5],\n",
    "      \"d\":[4,9],\n",
    "      \"e\":[5,8],\n",
    "      }\n",
    "for names,numbers in fn.items():  #注意是后面item将键值分为两个列表，这里for循环将两个列表分别赋值给两个变量...\n",
    "    print(names)                  #这里names相当于从键列表中提取除了元素 - 一个遍历\n",
    "    print(f\"{numbers}\")"
   ]
  },
  {
   "cell_type": "code",
   "execution_count": null,
   "metadata": {},
   "outputs": [
    {
     "name": "stdout",
     "output_type": "stream",
     "text": [
      "\n",
      "City:beijing\n",
      "Country:china\n",
      "Population:2000w\n",
      "Fact:beautiful\n",
      "\n",
      "City:shanghai\n",
      "Country:china\n",
      "Population:1000w\n",
      "Fact:beautiful\n",
      "\n",
      "City:shenzhen\n",
      "Country:china\n",
      "Population:500w\n",
      "Fact:beautiful\n"
     ]
    }
   ],
   "source": [
    "#6.11\n",
    "cities = {\n",
    "    \"beijing\":{\n",
    "        \"country\":\"china\",\n",
    "        \"population\":\"2000w\",\n",
    "        \"fact\":\"beautiful\",\n",
    "        },\n",
    "    \"shanghai\":{\n",
    "        \"country\":\"china\",\n",
    "        \"population\":\"1000w\",\n",
    "        \"fact\":\"beautiful\",\n",
    "        },\n",
    "    \"shenzhen\":{\n",
    "        \"country\":\"china\",\n",
    "        \"population\":\"500w\",\n",
    "        \"fact\":\"beautiful\",\n",
    "        },\n",
    "    }\n",
    "for city,info in cities.items():\n",
    "    print(f\"\\nCity:{city}\")\n",
    "    print(f\"Country:{info['country']}\")\n",
    "    print(f\"Population:{info['population']}\")\n",
    "    print(f\"Fact:{info['fact']}\")"
   ]
  }
 ],
 "metadata": {
  "kernelspec": {
   "display_name": "Python 3",
   "language": "python",
   "name": "python3"
  },
  "language_info": {
   "codemirror_mode": {
    "name": "ipython",
    "version": 3
   },
   "file_extension": ".py",
   "mimetype": "text/x-python",
   "name": "python",
   "nbconvert_exporter": "python",
   "pygments_lexer": "ipython3",
   "version": "3.12.2"
  }
 },
 "nbformat": 4,
 "nbformat_minor": 2
}
