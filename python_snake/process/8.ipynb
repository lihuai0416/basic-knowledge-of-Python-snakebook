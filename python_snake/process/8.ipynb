{
 "cells": [
  {
   "cell_type": "markdown",
   "metadata": {},
   "source": [
    " <font size=\"5\">第八章 函数 (2024.11.16 - 2024.11.18)"
   ]
  },
  {
   "cell_type": "markdown",
   "metadata": {},
   "source": [
    " <font size=\"4\">8.1 定义函数"
   ]
  },
  {
   "cell_type": "code",
   "execution_count": null,
   "metadata": {},
   "outputs": [
    {
     "name": "stdout",
     "output_type": "stream",
     "text": [
      "Hello!\n",
      "Hello!\n"
     ]
    }
   ],
   "source": [
    "def greet_user():             #def告诉python 我要定义一个函数 - 函数定义\n",
    "                              #冒号结尾，（）内为需要满足的信息\n",
    "     \"\"\"显示简单的问候语\"\"\"     #文档字符串(docstring) -- 描述函数是做什么的\n",
    "     print(\"Hello!\")          #greet_user() 唯一工作是打印Hello！\n",
    "     #调用时直接输入函数名即可（需要括号）\n",
    "     #def后所有缩进构成了函数体\n",
    "greet_user()\n",
    "greet_user()        #这里直接调用函数因为函数体中就有print，所以直接调用即可\n"
   ]
  },
  {
   "cell_type": "code",
   "execution_count": 4,
   "metadata": {},
   "outputs": [
    {
     "name": "stdout",
     "output_type": "stream",
     "text": [
      "Hello,Jesse!\n"
     ]
    }
   ],
   "source": [
    "\n",
    "#向函数传递信息\n",
    "def greet_user(username):\n",
    "    \"\"\"显示简单的问候语\"\"\"\n",
    "    print(f\"Hello,{username.title()}!\")\n",
    "\n",
    "greet_user(\"jesse\")"
   ]
  },
  {
   "cell_type": "code",
   "execution_count": null,
   "metadata": {},
   "outputs": [],
   "source": [
    "#实参和形参\n",
    "def greet_user(username):               #username为形参（parameter）\n",
    "    \"\"\"显示简单的问候语\"\"\"\n",
    "    print(f\"Hello,{username.title()}!\") \n",
    "\n",
    "greet_user(\"jesse\")                     #jesse为实参（argument）\n",
    "#调用函数时，实参传递给函数 - 值赋给形参"
   ]
  },
  {
   "cell_type": "markdown",
   "metadata": {},
   "source": [
    " <font size=\"4\">8.2 传递实参"
   ]
  },
  {
   "cell_type": "code",
   "execution_count": null,
   "metadata": {},
   "outputs": [
    {
     "name": "stdout",
     "output_type": "stream",
     "text": [
      "\n",
      "I have a dog\n",
      "My dog's name is Willie\n"
     ]
    }
   ],
   "source": [
    "#位置实参\n",
    "def describe_pet(animal_type,pet_name):\n",
    "    \"\"\"显示宠物的信息\"\"\"\n",
    "    print(f\"\\nI have a {animal_type}\")\n",
    "    print(f\"My {animal_type}'s name is {pet_name.title()}\")\n",
    "describe_pet(\"dog\",\"willie\")"
   ]
  },
  {
   "cell_type": "code",
   "execution_count": null,
   "metadata": {},
   "outputs": [
    {
     "name": "stdout",
     "output_type": "stream",
     "text": [
      "\n",
      "I have a dog\n",
      "My dog's name is Willie\n",
      "\n",
      "I have a cat\n",
      "My cat's name is Tom\n"
     ]
    }
   ],
   "source": [
    "def describe_pet(animal_type,pet_name):\n",
    "    \"\"\"显示宠物的信息\"\"\"\n",
    "    print(f\"\\nI have a {animal_type}\")\n",
    "    print(f\"My {animal_type}'s name is {pet_name.title()}\")\n",
    "\n",
    "describe_pet('dog','willie')\n",
    "describe_pet('cat','tom')"
   ]
  },
  {
   "cell_type": "code",
   "execution_count": null,
   "metadata": {},
   "outputs": [],
   "source": [
    "def describe_pet(animal_type,pet_name):\n",
    "    \"\"\"显示宠物的信息\"\"\"\n",
    "    print(f\"\\nI have a {animal_type}\")\n",
    "    print(f\"My {animal_type}'s name is {pet_name.title()}\")\n",
    "\n",
    "describe_pet('willie','dog')\n",
    "#顺序反了 完全错误 -- 实参输入顺序和形参 顺序一致"
   ]
  },
  {
   "cell_type": "code",
   "execution_count": null,
   "metadata": {},
   "outputs": [
    {
     "name": "stdout",
     "output_type": "stream",
     "text": [
      "\n",
      "I have a hamster\n",
      "My hamster's name is Harry\n",
      "\n",
      "I have a hamster\n",
      "My hamster's name is Harry\n"
     ]
    }
   ],
   "source": [
    "# 关键字实参 -传递给函数名值对（name-value pair）\n",
    "def describe_pet(animal_type,pet_name):\n",
    "    \"\"\"显示宠物的信息\"\"\"\n",
    "    print(f\"\\nI have a {animal_type}\")\n",
    "    print(f\"My {animal_type}'s name is {pet_name.title()}\")\n",
    "\n",
    "describe_pet(animal_type=\"hamster\",pet_name=\"harry\")\n",
    "describe_pet(pet_name=\"harry\",animal_type=\"hamster\")\n",
    "#这样则可以不考虑实参的顺序 - 明确赋值"
   ]
  },
  {
   "cell_type": "code",
   "execution_count": 1,
   "metadata": {},
   "outputs": [
    {
     "name": "stdout",
     "output_type": "stream",
     "text": [
      "\n",
      "I have a dog\n",
      "My dog's name is Willie\n",
      "\n",
      "I have a cat\n",
      "My cat's name is Willie\n",
      "\n",
      "I have a cat\n",
      "My cat's name is Willie\n"
     ]
    }
   ],
   "source": [
    "#默认值\n",
    "def describe_pet(pet_name,animal_type = \"dog\"):   #形参，有默认值的必须放在最后\n",
    "    #此时形参animal_type有默认值dog\n",
    "    \"\"\"显示宠物的信息\"\"\"\n",
    "    print(f\"\\nI have a {animal_type}\")\n",
    "    print(f\"My {animal_type}'s name is {pet_name.title()}\")\n",
    "describe_pet(\"willie\")    #形参有默认值，可以忽略不写\n",
    "describe_pet(pet_name=\"willie\",animal_type=\"cat\")  #提供实参时会忽略默认值\n",
    "describe_pet(\"willie\",\"cat\")\n"
   ]
  },
  {
   "cell_type": "code",
   "execution_count": null,
   "metadata": {},
   "outputs": [],
   "source": [
    "#等效的函数调用\n",
    "# def describe_pet(pet_name,animal_type = \"dog\"):\n",
    "# 以下的调用全部等效:\n",
    "# 一条名为 willie 的小狗\n",
    "# describe_pet(pet_name = \"willie\")\n",
    "# describe_pet(\"willie\")\n",
    "# 一只名为 harry 的仓鼠\n",
    "# describe_pet(pet_name = \"harry\",animal_type = \"hamster\")\n",
    "# describe_pet(\"harry\",\"hamster\")\n",
    "# describe_pet(animal_type = \"hamster\",pet_name = \"harry\")\n"
   ]
  },
  {
   "cell_type": "code",
   "execution_count": null,
   "metadata": {},
   "outputs": [],
   "source": [
    "#避免实参错误\n",
    "#eg：\n",
    "def describe_pet(animal_type,pet_name):\n",
    "    \"\"\"显示宠物的信息\"\"\"\n",
    "    print(f\"\\nI have a {animal_type}.\")\n",
    "    print(f\"My {animal_type}'s name is {pet_name.title()}.\")\n",
    "\n",
    "# describe_pet()  -- 缺少调用的必要信息"
   ]
  },
  {
   "cell_type": "markdown",
   "metadata": {},
   "source": [
    " <font size=\"4\">8.3 返回值"
   ]
  },
  {
   "cell_type": "code",
   "execution_count": 24,
   "metadata": {},
   "outputs": [
    {
     "name": "stdout",
     "output_type": "stream",
     "text": [
      "Jimi Hendrix\n"
     ]
    }
   ],
   "source": [
    "def get_formatted_name(first_name,last_name):\n",
    "    \"\"\"返回整洁的姓名\"\"\"\n",
    "    full_name = f\"{first_name} {last_name}\"\n",
    "    return full_name.title()           #return 给函数返回一个值\n",
    "musician = get_formatted_name(\"jimi\",\"hendrix\")\n",
    "print(musician)"
   ]
  },
  {
   "cell_type": "code",
   "execution_count": 27,
   "metadata": {},
   "outputs": [
    {
     "name": "stdout",
     "output_type": "stream",
     "text": [
      "Li Huai\n"
     ]
    }
   ],
   "source": [
    "#试探\n",
    "def get_formatted_name(first_name,last_name):\n",
    "    \"\"\"返回整洁的姓名\"\"\"\n",
    "    full_name = f\"{first_name} {last_name}\"\n",
    "    return full_name.title()           #return 给函数返回一个值\n",
    "print(get_formatted_name(\"li\",\"huai\"))"
   ]
  },
  {
   "cell_type": "code",
   "execution_count": 28,
   "metadata": {},
   "outputs": [
    {
     "name": "stdout",
     "output_type": "stream",
     "text": [
      "Jimi Lee Hendrix\n"
     ]
    }
   ],
   "source": [
    "#让实参变为可选的\n",
    "def get_formatted_name(first_name,middle_name,last_name):\n",
    "    \"\"\"返回整洁的姓名\"\"\"\n",
    "    full_name = f\"{first_name} {middle_name} {last_name}\"\n",
    "    return full_name.title()\n",
    "musician = get_formatted_name(\"jimi\",\"lee\",\"hendrix\")\n",
    "print(musician)\n",
    "#场景：有些人没有中间名，不指定值则程序出错\n",
    "#可以给形参指定默认值 - 空字符串，使没有中间名仍然能正常运行"
   ]
  },
  {
   "cell_type": "code",
   "execution_count": null,
   "metadata": {},
   "outputs": [
    {
     "name": "stdout",
     "output_type": "stream",
     "text": [
      "Li Xiao Huai\n",
      "Li  Huai\n"
     ]
    }
   ],
   "source": [
    "def get_formatted_name(first_name,last_name,middle_name = \"\"):\n",
    "    \"\"\"返回整洁的姓名\"\"\"\n",
    "    full_name = f\"{first_name} {middle_name} {last_name}\"\n",
    "    return full_name.title()\n",
    "\n",
    "print(get_formatted_name(\"li\",\"huai\",\"xiao\"))\n",
    "print(get_formatted_name(\"li\",\"huai\"))\n",
    "#上面的方法虽然结果看似正确，但第二个结果中会出现两个空格\n",
    "#修进见下一个代码块\n"
   ]
  },
  {
   "cell_type": "code",
   "execution_count": 30,
   "metadata": {},
   "outputs": [
    {
     "name": "stdout",
     "output_type": "stream",
     "text": [
      "Li Xiao Huai\n",
      "Li Huai\n"
     ]
    }
   ],
   "source": [
    "def get_formatted_name(first_name,last_name,middle_name = \"\"):\n",
    "    \"\"\"返回整洁的姓名\"\"\"\n",
    "    if middle_name:\n",
    "        full_name = f\"{first_name} {middle_name} {last_name}\"\n",
    "    else:\n",
    "        full_name = f\"{first_name} {last_name}\"\n",
    "    full_name = full_name.title()\n",
    "    return full_name\n",
    "print(get_formatted_name(\"li\",\"huai\",\"xiao\"))\n",
    "print(get_formatted_name(\"li\",\"huai\"))"
   ]
  },
  {
   "cell_type": "code",
   "execution_count": null,
   "metadata": {},
   "outputs": [
    {
     "name": "stdout",
     "output_type": "stream",
     "text": [
      "{'first': 'jimi', 'last': 'hendrix'}\n",
      "{'first': 'jimi', 'last': 'hendrix'}\n"
     ]
    }
   ],
   "source": [
    "#返回字典\n",
    "def bulid_person(first_name,last_name):\n",
    "    \"\"\"返回一个字典，其中包含有关一个人的信息\"\"\"\n",
    "    person = {\"first\":first_name,\"last\":last_name}\n",
    "    return person\n",
    "musician = bulid_person(\"jimi\",\"hendrix\")\n",
    "print(musician)\n",
    "print(bulid_person(\"jimi\",\"hendrix\")) #法2"
   ]
  },
  {
   "cell_type": "code",
   "execution_count": null,
   "metadata": {},
   "outputs": [
    {
     "name": "stdout",
     "output_type": "stream",
     "text": [
      "{'first': 'jimi', 'last': 'hendrix', 'age': 27}\n",
      "{'first': 'jimi', 'last': 'hendrix'}\n"
     ]
    }
   ],
   "source": [
    "def build_person(first_name,last_name,age=None): #条件测试中 none 相当于false\n",
    "    person = {\"first\":first_name,\"last\":last_name}\n",
    "    if age:\n",
    "        person[\"age\"] = age #列表中更改/添加键值对的方式\n",
    "    return person\n",
    "musician = build_person(\"jimi\",\"hendrix\",age=27)\n",
    "print(musician)\n",
    "musician2 = build_person(\"jimi\",\"hendrix\")\n",
    "print(musician2)"
   ]
  },
  {
   "cell_type": "code",
   "execution_count": null,
   "metadata": {},
   "outputs": [
    {
     "name": "stdout",
     "output_type": "stream",
     "text": [
      "\n",
      "Please tell me your name:\n",
      "(enter 'q' at any time to quit)\n",
      "\n",
      "Hello,Li Huai!\n",
      "\n",
      "Please tell me your name:\n",
      "(enter 'q' at any time to quit)\n"
     ]
    }
   ],
   "source": [
    "def get_formatted_name(first,last):\n",
    "    \"\"\"返回整洁的姓名\"\"\"\n",
    "    full_name = f\"{first} {last}\"\n",
    "    return full_name.title()\n",
    "\n",
    "while True:\n",
    "    print(\"\\nPlease tell me your name:\")\n",
    "    print(\"(enter 'q' at any time to quit)\")\n",
    "    f_name = input(\"First name: \")\n",
    "    if f_name == 'q':\n",
    "        break\n",
    "    l_name = input(\"Last name: \")\n",
    "    if l_name == 'q':\n",
    "        break\n",
    "    formatted_name = get_formatted_name(f_name,l_name)\n",
    "    print(f\"\\nHello,{formatted_name}!\")\n",
    "   \n",
    "    \n",
    "    #在python中实际运行可行"
   ]
  },
  {
   "cell_type": "markdown",
   "metadata": {},
   "source": [
    " <font size=\"4\">8.4 传递列表"
   ]
  },
  {
   "cell_type": "code",
   "execution_count": null,
   "metadata": {},
   "outputs": [
    {
     "name": "stdout",
     "output_type": "stream",
     "text": [
      "Hello,Hannah!\n",
      "Hello,Ty!\n",
      "Hello,Margot!\n"
     ]
    }
   ],
   "source": [
    "\n",
    "def greet_users(names):\n",
    "    \"\"\"向列表中的每位用户都发出简单的问候\"\"\"\n",
    "    for name in names:\n",
    "        msg = f\"Hello,{name.title()}!\"\n",
    "        print(msg)\n",
    "usernames = ['hannah','ty','margot']\n",
    "greet_users(usernames)"
   ]
  },
  {
   "cell_type": "code",
   "execution_count": null,
   "metadata": {},
   "outputs": [
    {
     "name": "stdout",
     "output_type": "stream",
     "text": [
      "Printing model: dodecahedron\n",
      "Printing model: robot pendant\n",
      "Printing model: iphone case\n",
      "\n",
      "The following models have been printed:\n",
      "dodecahedron\n",
      "robot pendant\n",
      "iphone case\n"
     ]
    }
   ],
   "source": [
    "unprinted_designs = ['iphone case','robot pendant','dodecahedron']\n",
    "completed_models = []\n",
    "while unprinted_designs:            #当列表空时停止循环\n",
    "    current_design = unprinted_designs.pop()\n",
    "    print(f\"Printing model: {current_design}\")\n",
    "    completed_models.append(current_design)\n",
    "\n",
    "print(\"\\nThe following models have been printed:\")\n",
    "for completed_model in completed_models:\n",
    "    print(completed_model)"
   ]
  },
  {
   "cell_type": "code",
   "execution_count": null,
   "metadata": {},
   "outputs": [
    {
     "name": "stdout",
     "output_type": "stream",
     "text": [
      "Printing model: dodecahedron\n",
      "Printing model: robot pendant\n",
      "Printing model: iphone case\n",
      "\n",
      "The following models have been printed:\n",
      "dodecahedron\n",
      "robot pendant\n",
      "iphone case\n"
     ]
    }
   ],
   "source": [
    "#重要：多看几遍\n",
    "def print_models(unprinted_designs,completed_models):\n",
    "    \"\"\"\n",
    "    模拟打印每个设计，直到没有未打印的设计为止\n",
    "    打印每个设计后,都将其移到列表completed_models中\n",
    "    \"\"\"\n",
    "    while unprinted_designs:\n",
    "        current_design = unprinted_designs.pop()\n",
    "        print(f\"Printing model: {current_design}\")\n",
    "        completed_models.append(current_design)\n",
    "def show_completed_models(completed_models):\n",
    "    \"\"\"显示打印好的所有模型\"\"\"\n",
    "    print(\"\\nThe following models have been printed:\")\n",
    "    for completed_model in completed_models:\n",
    "        print(completed_model)\n",
    "unprinted_designs = ['iphone case','robot pendant','dodecahedron']\n",
    "completed_models = []\n",
    "print_models(unprinted_designs,completed_models)\n",
    "#若不想清空未打印的设计列表，可像下面的方式调用\n",
    "# print_models(unprinted_designs[:],completed_models)\n",
    "#尽可能还是使用现成的列表，避免花时间和内存创建副本\n",
    "show_completed_models(completed_models)\n",
    "\n",
    "#每个函数都应该只负责一项具体工作。 可以在一个函数中调用另一个函数"
   ]
  },
  {
   "cell_type": "code",
   "execution_count": null,
   "metadata": {},
   "outputs": [],
   "source": [
    "#禁止函数修改列表\n",
    "# eg:上一个代码中def1将列表unprinted_designs中列表元素全部弹出，倒置列表被修改\n",
    "# print_models(unprinted_designs[:],completed_models)可以解决这个问题"
   ]
  },
  {
   "cell_type": "markdown",
   "metadata": {},
   "source": [
    " <font size=\"4\">8.5 传递任意数量的实参"
   ]
  },
  {
   "cell_type": "code",
   "execution_count": null,
   "metadata": {},
   "outputs": [
    {
     "name": "stdout",
     "output_type": "stream",
     "text": [
      "('pepperoni',)\n",
      "('mushrooms', 'green peppers', 'extra cheese')\n"
     ]
    }
   ],
   "source": [
    "def make_pizza(*toppings):  #实参前面加*号表示创建一个元组   \n",
    "    \"\"\"打印顾客点的所有配料\"\"\"\n",
    "    print(toppings)\n",
    "make_pizza(\"pepperoni\")\n",
    "make_pizza(\"mushrooms\", \"green peppers\", \"extra cheese\")"
   ]
  },
  {
   "cell_type": "code",
   "execution_count": 6,
   "metadata": {},
   "outputs": [
    {
     "name": "stdout",
     "output_type": "stream",
     "text": [
      "\n",
      "Making a pizza with the following toppings:\n",
      "-pepperoni\n",
      "\n",
      "Making a pizza with the following toppings:\n",
      "-mushrooms\n",
      "-green peppers\n",
      "-extra cheese\n"
     ]
    }
   ],
   "source": [
    "def make_pizza(*toppings): \n",
    "    \"\"\"概述要制作的比萨\"\"\"\n",
    "    print(\"\\nMaking a pizza with the following toppings:\")\n",
    "    for topping in toppings:\n",
    "        print(f\"-{topping}\")\n",
    "make_pizza(\"pepperoni\")\n",
    "make_pizza(\"mushrooms\", \"green peppers\", \"extra cheese\")"
   ]
  },
  {
   "cell_type": "code",
   "execution_count": 9,
   "metadata": {},
   "outputs": [
    {
     "name": "stdout",
     "output_type": "stream",
     "text": [
      "lihuai\n",
      "wangcai\n",
      "xiaoming\n"
     ]
    }
   ],
   "source": [
    "#试探：元组也能用for调用？\n",
    "name = (\"lihuai\",\"wangcai\",\"xiaoming\")\n",
    "for i in name:\n",
    "    print(i)"
   ]
  },
  {
   "cell_type": "code",
   "execution_count": null,
   "metadata": {},
   "outputs": [
    {
     "name": "stdout",
     "output_type": "stream",
     "text": [
      "\n",
      "Making a 16-inch pizza with the following toppings:\n",
      "- pepperoni\n",
      "\n",
      "Making a 12-inch pizza with the following toppings:\n",
      "- mushrooms\n",
      "- green peppers\n",
      "- extra cheese\n"
     ]
    }
   ],
   "source": [
    "def make_pizza(size,*toppings): #接受任意数量的实参必须放最后\n",
    "    print(f\"\\nMaking a {size}-inch pizza with the following toppings:\")\n",
    "    for topping in toppings:\n",
    "        print(f\"- {topping}\")\n",
    "\n",
    "make_pizza(16,'pepperoni')\n",
    "make_pizza(12,'mushrooms','green peppers','extra cheese')"
   ]
  },
  {
   "cell_type": "code",
   "execution_count": null,
   "metadata": {},
   "outputs": [
    {
     "name": "stdout",
     "output_type": "stream",
     "text": [
      "{'location': 'princeton', 'field': 'physics', 'first_name': 'albert', 'last_name': 'einstein'}\n"
     ]
    }
   ],
   "source": [
    "# 使用任意数量的关键字实参\n",
    "def build_profile(first, last, **user_info):  #两个星号即创建一个名为user_info的字典\n",
    "    \"\"\"Build a dictionary containing everything we know about a user.\"\"\"\n",
    "    user_info['first_name'] = first\n",
    "    user_info['last_name'] = last\n",
    "    return user_info\n",
    "\n",
    "user_profile = build_profile('albert', 'einstein',\n",
    "                            location='princeton',\n",
    "                            field='physics')   #给函数传递关键字，不需要引号\n",
    "print(user_profile)"
   ]
  },
  {
   "cell_type": "code",
   "execution_count": 5,
   "metadata": {},
   "outputs": [
    {
     "name": "stdout",
     "output_type": "stream",
     "text": [
      "{'size': 'big', 'name': 'chicken', 'toppings': 'tomato'}\n"
     ]
    }
   ],
   "source": [
    "#试探\n",
    "def pizzalh(name,toppings,**info):\n",
    "    info[\"name\"] = name\n",
    "    info[\"toppings\"] = toppings\n",
    "    return info\n",
    "print(pizzalh(\"chicken\",\"tomato\",size = \"big\"))\n"
   ]
  },
  {
   "cell_type": "markdown",
   "metadata": {},
   "source": [
    " <font size=\"4\">8.6 将函数存储在模块中"
   ]
  },
  {
   "cell_type": "code",
   "execution_count": 18,
   "metadata": {},
   "outputs": [
    {
     "name": "stdout",
     "output_type": "stream",
     "text": [
      "\n",
      "Making a 16-inch pizza with the following toppings:\n",
      "- pepperoni\n",
      "\n",
      "Making a 12-inch pizza with the following toppings:\n",
      "- mushrooms\n",
      "- green peppers\n",
      "- extra cheese\n"
     ]
    }
   ],
   "source": [
    "# 模块：扩展名为.py的文件，包含要导入程序的代码\n",
    "import pizza      #模块命名注意：只能字母or下划线开头\n",
    "pizza.make_pizza(16,'pepperoni')\n",
    "pizza.make_pizza(12,'mushrooms','green peppers','extra cheese')\n",
    "# 如果import导入了名为pizza的模块，\n",
    "# 就可以使用pizza.make_pizza()来调用pizza模块中make_pizza()函数"
   ]
  },
  {
   "cell_type": "code",
   "execution_count": null,
   "metadata": {},
   "outputs": [],
   "source": [
    "# 1.导入模块中的特定函数\n",
    "# from 模块名 import 函数名\n",
    "# 2.用逗号分隔函数名，根据需要从模块中导入任意数量函数\n",
    "# from 模块名 import 函数名1，函数名2，函数名3\n",
    "# 使用这种语法，调用时无须使用句点（即不用模块名作为前缀）"
   ]
  },
  {
   "cell_type": "code",
   "execution_count": null,
   "metadata": {},
   "outputs": [
    {
     "name": "stdout",
     "output_type": "stream",
     "text": [
      "\n",
      "Making a 16-inch pizza with the following toppings:\n",
      "- pepperoni\n",
      "\n",
      "Making a 12-inch pizza with the following toppings:\n",
      "- mushrooms\n",
      "- green peppers\n",
      "- extra cheese\n"
     ]
    }
   ],
   "source": [
    "# 别名alias - as\n",
    "# 给函数指定别名\n",
    "from pizza import make_pizza as mp\n",
    "mp(16,\"pepperoni\")\n",
    "mp(12,\"mushrooms\",\"green peppers\",\"extra cheese\")"
   ]
  },
  {
   "cell_type": "code",
   "execution_count": null,
   "metadata": {},
   "outputs": [
    {
     "name": "stdout",
     "output_type": "stream",
     "text": [
      "\n",
      "Making a 16-inch pizza with the following toppings:\n",
      "- pepperoni\n",
      "\n",
      "Making a 12-inch pizza with the following toppings:\n",
      "- mushrooms\n",
      "- green peppers\n",
      "- extra cheese\n"
     ]
    }
   ],
   "source": [
    "# 给模块指定别名\n",
    "import pizza as p\n",
    "p.make_pizza(16,'pepperoni')\n",
    "p.make_pizza(12,'mushrooms','green peppers','extra cheese')\n",
    "# 通用语法：import module_name as mn"
   ]
  },
  {
   "cell_type": "code",
   "execution_count": null,
   "metadata": {},
   "outputs": [
    {
     "name": "stdout",
     "output_type": "stream",
     "text": [
      "\n",
      "Making a 16-inch pizza with the following toppings:\n",
      "- pepperoni\n",
      "\n",
      "Making a 12-inch pizza with the following toppings:\n",
      "- mushrooms\n",
      "- green peppers\n",
      "- extra cheese\n"
     ]
    }
   ],
   "source": [
    "#导入模块中所有函数\n",
    "from pizza import *\n",
    "make_pizza(16,'pepperoni')\n",
    "make_pizza(12,'mushrooms','green peppers','extra cheese')\n",
    "# 无须使用点号(dot natation)\n",
    "# 大型模块不建议 - 名称相同"
   ]
  },
  {
   "cell_type": "code",
   "execution_count": null,
   "metadata": {},
   "outputs": [],
   "source": [
    "# 注意：形参指定默认值时，等号两边不要有空格\n",
    "# 模块包含多个函数，可以用两个空行分隔开\n",
    "# 所有import语句都应放在文件开头，除非在文件开头使用了注释来描述程序"
   ]
  }
 ],
 "metadata": {
  "kernelspec": {
   "display_name": "Python 3",
   "language": "python",
   "name": "python3"
  },
  "language_info": {
   "codemirror_mode": {
    "name": "ipython",
    "version": 3
   },
   "file_extension": ".py",
   "mimetype": "text/x-python",
   "name": "python",
   "nbconvert_exporter": "python",
   "pygments_lexer": "ipython3",
   "version": "3.12.2"
  }
 },
 "nbformat": 4,
 "nbformat_minor": 2
}
