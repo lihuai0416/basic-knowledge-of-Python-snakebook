{
 "cells": [
  {
   "cell_type": "markdown",
   "metadata": {
    "vscode": {
     "languageId": "plaintext"
    }
   },
   "source": [
    " <font size=\"5\">第六章 字典 (2024.11.14)"
   ]
  },
  {
   "cell_type": "markdown",
   "metadata": {},
   "source": [
    " <font size=\"4\">6.1 一个简单的字典"
   ]
  },
  {
   "cell_type": "code",
   "execution_count": null,
   "metadata": {},
   "outputs": [
    {
     "name": "stdout",
     "output_type": "stream",
     "text": [
      "green\n",
      "5\n"
     ]
    }
   ],
   "source": [
    "alien_0 = {\"color\":\"green\",\"points\":5}\n",
    "print(alien_0[\"color\"])\n",
    "print(alien_0[\"points\"])\n",
    "#键值之间用：分割； 键值对之间用，分割\n",
    "#字典{}"
   ]
  },
  {
   "cell_type": "markdown",
   "metadata": {},
   "source": [
    " <font size=\"4\">6.2 使用字典"
   ]
  },
  {
   "cell_type": "code",
   "execution_count": null,
   "metadata": {},
   "outputs": [
    {
     "name": "stdout",
     "output_type": "stream",
     "text": [
      "you just earned 5 points!\n",
      "you just earned 5 points!\n"
     ]
    }
   ],
   "source": [
    "#python中，字典（dictionary）是一系列键值对(key-value pair)\n",
    "#使用键来访问与之关联的值，值可以是数、字符串、列表甚至字典\n",
    "alien_0 = {\"color\":\"green\",\"points\":5}\n",
    "new_points = alien_0[\"points\"]\n",
    "print(f\"you just earned {new_points} points!\")\n",
    "\n",
    "#试探\n",
    "alien_0 = {\"color\":\"green\",\"points\":5}\n",
    "print(f\"you just earned {alien_0[\"points\"]} points!\")\n",
    "#此种方式也可以，访问字典中的值直接用f替换"
   ]
  },
  {
   "cell_type": "code",
   "execution_count": null,
   "metadata": {},
   "outputs": [
    {
     "name": "stdout",
     "output_type": "stream",
     "text": [
      "{'color': 'green', 'points': 5, 'x_position': 0, 'y_position': 25}\n",
      "{'color': 'green', 'points': 5}\n"
     ]
    }
   ],
   "source": [
    "alien_0 = {\"color\":\"green\",\"points\":5}\n",
    "alien_0[\"x_position\"] = 0\n",
    "alien_0[\"y_position\"] = 25\n",
    "print(alien_0)\n",
    "#打印出来原顺序不变，新增的在最后和添加顺序相同\n",
    "#注意新增的方式没有.append一类，[]内为字典里无的键，便直接添加\n",
    "\n",
    "#常用操作：创建一个空字典后添加键值对\n",
    "alien_1 = {}\n",
    "alien_1[\"color\"] = \"green\"\n",
    "alien_1[\"points\"] = 5\n",
    "print(alien_1)"
   ]
  },
  {
   "cell_type": "code",
   "execution_count": 8,
   "metadata": {},
   "outputs": [
    {
     "name": "stdout",
     "output_type": "stream",
     "text": [
      "The alien is green\n",
      "The alien now is yellow\n"
     ]
    }
   ],
   "source": [
    "#修改字典中的值\n",
    "alien_0 = {\"color\":\"green\",\"points\":5}\n",
    "print(f\"The alien is {alien_0[\"color\"]}\")\n",
    "alien_0[\"color\"]= \"yellow\"\n",
    "print(f\"The alien now is {alien_0[\"color\"]}\")"
   ]
  },
  {
   "cell_type": "code",
   "execution_count": 10,
   "metadata": {},
   "outputs": [
    {
     "name": "stdout",
     "output_type": "stream",
     "text": [
      "Original position:0\n",
      "New position:2\n"
     ]
    }
   ],
   "source": [
    "#一个有趣的例子\n",
    "alien_0 = {\"x_position\":0,\"y_position\":25,\"speed\":\"medium\"}\n",
    "print(f\"Original position:{alien_0[\"x_position\"]}\")\n",
    "#向右移动外星人\n",
    "#根据当前速度确定外星人向右移动多远\n",
    "if alien_0[\"speed\"] == \"slow\":\n",
    "    x_increment = 1\n",
    "elif alien_0[\"speed\"] == \"medium\":\n",
    "    x_increment = 2\n",
    "else:\n",
    "    x_increment = 3\n",
    "alien_0[\"x_position\"]=alien_0[\"x_position\"] + x_increment\n",
    "print(f\"New position:{alien_0[\"x_position\"]}\")"
   ]
  },
  {
   "cell_type": "code",
   "execution_count": null,
   "metadata": {},
   "outputs": [
    {
     "name": "stdout",
     "output_type": "stream",
     "text": [
      "{'color': 'green', 'points': 5}\n",
      "{'color': 'green'}\n"
     ]
    }
   ],
   "source": [
    "#删除键值对 -- 删除不再需要的东西\n",
    "alien_0 = {\"color\":\"green\",\"points\":5}\n",
    "print(alien_0)\n",
    "del alien_0[\"points\"]\n",
    "print(alien_0)\n",
    "#删除的值永远消失了"
   ]
  },
  {
   "cell_type": "code",
   "execution_count": null,
   "metadata": {},
   "outputs": [
    {
     "name": "stdout",
     "output_type": "stream",
     "text": [
      "Sarah's favourite language is C.\n"
     ]
    }
   ],
   "source": [
    "#类似的对象组成的字典\n",
    "favourite_languages = {\n",
    "    \"jen\":\"python\",\n",
    "    \"sarah\":\"c\",\n",
    "    \"edward\":\"rust\",\n",
    "    \"phil\":\"python\",   #好习惯：最后加个,\n",
    "    }\n",
    "language = favourite_languages[\"sarah\"].title()\n",
    "print(f\"Sarah's favourite language is {language}.\")"
   ]
  },
  {
   "cell_type": "code",
   "execution_count": 2,
   "metadata": {},
   "outputs": [
    {
     "name": "stdout",
     "output_type": "stream",
     "text": [
      "No point value assigned.\n",
      "sorry,no info\n",
      "huai\n"
     ]
    }
   ],
   "source": [
    "# alien_0 = {\"color\":\"green\",\"speed\":\"slow\"}\n",
    "# print(alien_0[\"points\"])\n",
    "# 有错误，不存在points\n",
    "\n",
    "#使用get（）访问值  -  用于处理指点的键可能不存在时返回值\n",
    "alien_0 = {\"color\":\"green\",\"speed\":\"slow\"}\n",
    "point_value = alien_0.get(\"points\",\"No point value assigned.\")\n",
    "#这里相当于用get语法去获取列表中的\"points\",若获取不到则返回第二个值\n",
    "print(point_value)\n",
    "#若没有指定第二个参数且指定的键不存在，Python返回值None\n",
    "\n",
    "#试探2：\n",
    "info = {\"name\":\"huai\",\"age\":22,\"sex\":\"male\"}\n",
    "print(info.get(\"speed\",\"sorry,no info\"))\n",
    "#get去调取info中speed，发现没有，输出后面的内容\n",
    "print(info.get(\"name\",\"sorry,no info\"))\n"
   ]
  },
  {
   "cell_type": "markdown",
   "metadata": {},
   "source": [
    " <font size=\"4\">6.3 遍历字典"
   ]
  },
  {
   "cell_type": "code",
   "execution_count": null,
   "metadata": {},
   "outputs": [
    {
     "name": "stdout",
     "output_type": "stream",
     "text": [
      "\n",
      "key:username\n",
      "Value:efermi\n",
      "\n",
      "key:first\n",
      "Value:enrico\n",
      "\n",
      "key:last\n",
      "Value:fermi\n"
     ]
    }
   ],
   "source": [
    "#遍历字典：既可以遍历所有键值对，也可以只遍历键和值\n",
    "#遍历所有键值对 -- item（）  --用于返回一个键值对列表\n",
    "user_0 = {\n",
    "    \"username\":\"efermi\",\n",
    "    \"first\":\"enrico\",\n",
    "    \"last\":\"fermi\",\n",
    "    }\n",
    "for key,value in user_0.items():\n",
    "    print(f\"\\nkey:{key}\")\n",
    "    print(f\"Value:{value}\")\n",
    "    #注意，是个循环,注意输出内容"
   ]
  },
  {
   "cell_type": "code",
   "execution_count": 22,
   "metadata": {},
   "outputs": [
    {
     "name": "stdout",
     "output_type": "stream",
     "text": [
      "jen's favourite language is python\n",
      "sarah's favourite language is c\n",
      "edward's favourite language is rust\n",
      "phil's favourite language is python\n"
     ]
    }
   ],
   "source": [
    "#练手例\n",
    "favourite_languages = {\n",
    "    \"jen\":\"python\",\n",
    "    \"sarah\":\"c\",\n",
    "    \"edward\":\"rust\",\n",
    "    \"phil\":\"python\",\n",
    "    }\n",
    "for name,language in favourite_languages.items():\n",
    "    print(f\"{name}'s favourite language is {language}\")"
   ]
  },
  {
   "cell_type": "code",
   "execution_count": null,
   "metadata": {},
   "outputs": [
    {
     "name": "stdout",
     "output_type": "stream",
     "text": [
      "jen\n",
      "sarah\n",
      "edward\n",
      "phil\n",
      "jen\n",
      "sarah\n",
      "edward\n",
      "phil\n"
     ]
    }
   ],
   "source": [
    "#遍历所有键\n",
    "favourite_languages = {\n",
    "    \"jen\":\"python\",\n",
    "    \"sarah\":\"c\",\n",
    "    \"edward\":\"rust\",\n",
    "    \"phil\":\"python\",\n",
    "    }\n",
    "for name in favourite_languages.keys():\n",
    "    print(name)\n",
    "for name in favourite_languages:       #.keys()可以省略\n",
    "    print(name)"
   ]
  },
  {
   "cell_type": "code",
   "execution_count": null,
   "metadata": {},
   "outputs": [
    {
     "name": "stdout",
     "output_type": "stream",
     "text": [
      "Hi,Jen\n",
      "Hi,Sarah\n",
      "\tSarah,I see you love C!\n",
      "Hi,Edward\n",
      "Hi,Phil\n",
      "\tPhil,I see you love Python!\n",
      "Erin,please take our poll!\n"
     ]
    }
   ],
   "source": [
    "#多看几遍\n",
    "favourite_languages = {\n",
    "    \"jen\":\"python\",\n",
    "    \"sarah\":\"c\",\n",
    "    \"edward\":\"rust\",\n",
    "    \"phil\":\"python\",\n",
    "}\n",
    "friends = [\"phil\",\"sarah\"]\n",
    "for name in favourite_languages.keys():\n",
    "    print(f\"Hi,{name.title()}\")\n",
    "    if name in friends:\n",
    "        language = favourite_languages[name].title()   #注意此处的操作\n",
    "    # favourite_languages[name]  是返回字典中[]中键的值\n",
    "        print(f\"\\t{name.title()},I see you love {language}!\")\n",
    "\n",
    "#例子2\n",
    "favourite_languages = {\n",
    "    \"jen\":\"python\",\n",
    "    \"sarah\":\"c\",\n",
    "    \"edward\":\"rust\",\n",
    "    \"phil\":\"python\",\n",
    "}\n",
    "if \"erin\" not in favourite_languages.keys():\n",
    "    print(\"Erin,please take our poll!\")\n",
    "\n",
    "#.keys()实际上会返回一个列表"
   ]
  },
  {
   "cell_type": "code",
   "execution_count": null,
   "metadata": {},
   "outputs": [
    {
     "name": "stdout",
     "output_type": "stream",
     "text": [
      "python\n",
      "c\n",
      "rust\n",
      "python\n"
     ]
    }
   ],
   "source": [
    "#试探：\n",
    "favourite_languages = {\n",
    "    \"jen\":\"python\",\n",
    "    \"sarah\":\"c\",\n",
    "    \"edward\":\"rust\",\n",
    "    \"phil\":\"python\",\n",
    "}\n",
    "for name in favourite_languages.keys():\n",
    "    print(favourite_languages[name])  #此处输出的是name（对应键）的值"
   ]
  },
  {
   "cell_type": "code",
   "execution_count": 28,
   "metadata": {},
   "outputs": [
    {
     "name": "stdout",
     "output_type": "stream",
     "text": [
      "Edward,thank you for taking the poll.\n",
      "Jen,thank you for taking the poll.\n",
      "Phil,thank you for taking the poll.\n",
      "Sarah,thank you for taking the poll.\n"
     ]
    }
   ],
   "source": [
    "#按特定的顺序遍历键\n",
    "favourite_languages = {\n",
    "    \"jen\":\"python\",\n",
    "    \"sarah\":\"c\",\n",
    "    \"edward\":\"rust\",\n",
    "    \"phil\":\"python\",\n",
    "}\n",
    "for name in sorted(favourite_languages.keys()):\n",
    "    print(f\"{name.title()},thank you for taking the poll.\")"
   ]
  },
  {
   "cell_type": "code",
   "execution_count": null,
   "metadata": {},
   "outputs": [
    {
     "name": "stdout",
     "output_type": "stream",
     "text": [
      "The following languages have been mentioned:\n",
      "python\n",
      "c\n",
      "rust\n",
      "python\n",
      "\n",
      "The following languages have been mentioned:\n",
      "c\n",
      "python\n",
      "rust\n"
     ]
    }
   ],
   "source": [
    "#遍历所有值\n",
    "favourite_languages = {\n",
    "    \"jen\":\"python\",\n",
    "    \"sarah\":\"c\",\n",
    "    \"edward\":\"rust\",\n",
    "    \"phil\":\"python\",\n",
    "}\n",
    "print(\"The following languages have been mentioned:\")\n",
    "for language in favourite_languages.values():\n",
    "    print(language)\n",
    "\n",
    "#集合函数set（）：集合里的元素都是独一无二的 -- 消除独立项\n",
    "favourite_languages = {\n",
    "    \"jen\":\"python\",\n",
    "    \"sarah\":\"c\",\n",
    "    \"edward\":\"rust\",\n",
    "    \"phil\":\"python\",\n",
    "}\n",
    "print(\"\\nThe following languages have been mentioned:\")\n",
    "for language in set(favourite_languages.values()):   #注意\n",
    "    print(language)"
   ]
  },
  {
   "cell_type": "code",
   "execution_count": null,
   "metadata": {},
   "outputs": [
    {
     "name": "stdout",
     "output_type": "stream",
     "text": [
      "\n",
      "The following languages have been mentioned:\n",
      "{'n', 'o', 'h', 't', 'p', 'y'}\n",
      "{'c'}\n",
      "{'u', 't', 's', 'r'}\n",
      "{'n', 'o', 'h', 't', 'p', 'y'}\n"
     ]
    }
   ],
   "source": [
    "#试探\n",
    "favourite_languages = {\n",
    "    \"jen\":\"python\",\n",
    "    \"sarah\":\"c\",\n",
    "    \"edward\":\"rust\",\n",
    "    \"phil\":\"python\",\n",
    "}\n",
    "print(\"\\nThe following languages have been mentioned:\")\n",
    "for language in favourite_languages.values():\n",
    "    print(set(language))\n",
    "\n",
    "# 区分上面 \n",
    "# for language in set(favourite_languages.values()):\n",
    "# 这里set的对象是字典中的所有值所排布的列表\n",
    "# for language in favourite_languages.values():\n",
    "#    print(set(language))   这里set的对象是字典中的具体每一个值，而非值排成的列表"
   ]
  },
  {
   "cell_type": "code",
   "execution_count": 34,
   "metadata": {},
   "outputs": [
    {
     "name": "stdout",
     "output_type": "stream",
     "text": [
      "{'a', 'c', 'd', 'b'}\n"
     ]
    }
   ],
   "source": [
    "#注意：集合和字典都是用花括号，花括号内没有键值对则可能为集合\n",
    "#集合不同于列表、字典，其不以特定的顺序存在\n",
    "languages = {\"a\",\"b\",\"c\",\"d\",\"a\"}\n",
    "print(languages)\n",
    "#输出顺序改变,而且少了个a -- 集合元素不可重复；集合元素不按顺序存储"
   ]
  },
  {
   "cell_type": "markdown",
   "metadata": {},
   "source": [
    " <font size=\"4\">6.4 嵌套"
   ]
  },
  {
   "cell_type": "code",
   "execution_count": null,
   "metadata": {},
   "outputs": [
    {
     "name": "stdout",
     "output_type": "stream",
     "text": [
      "{'color': 'green', 'points': 5}\n",
      "{'color': 'yellow', 'points': 10}\n",
      "{'color': 'red', 'points': 15}\n",
      "{'color': 'green', 'points': 5, 'speed': 'slow'}\n",
      "{'color': 'green', 'points': 5, 'speed': 'slow'}\n",
      "{'color': 'green', 'points': 5, 'speed': 'slow'}\n",
      "{'color': 'green', 'points': 5, 'speed': 'slow'}\n",
      "{'color': 'green', 'points': 5, 'speed': 'slow'}\n",
      "...\n",
      "Total number of aliens: 30\n"
     ]
    }
   ],
   "source": [
    "#字典存储在列表中 or 列表存储在字典中...\n",
    "#eg：将字典存储在列表中\n",
    "alien_0 = {'color': 'green', 'points': 5}\n",
    "alien_1 = {'color': 'yellow', 'points': 10}\n",
    "alien_2 = {'color':'red', 'points': 15}\n",
    "aliens = [alien_0, alien_1, alien_2]\n",
    "for alien in aliens:\n",
    "    print(alien)\n",
    "\n",
    "aliens = []\n",
    "for alinen_number in range(30):   #此处的作用是告诉python要循环30次，即创建30外星人\n",
    "    new_alien = {'color': 'green', 'points': 5,'speed':'slow'}\n",
    "    aliens.append(new_alien)\n",
    "for alien in aliens[:5]:          #此处的作用是打印前五个外星人\n",
    "    print(alien)\n",
    "print('...')\n",
    "print(f\"Total number of aliens: {len(aliens)}\")"
   ]
  },
  {
   "cell_type": "code",
   "execution_count": null,
   "metadata": {},
   "outputs": [
    {
     "name": "stdout",
     "output_type": "stream",
     "text": [
      "{'color': 'yellow', 'points': 10, 'speed': 'medium'}\n",
      "{'color': 'yellow', 'points': 10, 'speed': 'medium'}\n",
      "{'color': 'yellow', 'points': 10, 'speed': 'medium'}\n",
      "{'color': 'green', 'points': 5, 'speed': 'slow'}\n",
      "{'color': 'green', 'points': 5, 'speed': 'slow'}\n",
      "...\n",
      "\n",
      "{'color': 'yellow', 'points': 10, 'speed': 'medium'}\n",
      "{'color': 'yellow', 'points': 10, 'speed': 'medium'}\n",
      "{'color': 'yellow', 'points': 10, 'speed': 'medium'}\n",
      "{'color': 'green', 'points': 5, 'speed': 'slow'}\n",
      "{'color': 'green', 'points': 5, 'speed': 'slow'}\n",
      "...\n",
      "\n"
     ]
    }
   ],
   "source": [
    "#方法1：\n",
    "aliens=[]\n",
    "for alinen_number in range(30): #循环30次\n",
    "    new_alien = {\"color\": \"green\", \"points\": 5, \"speed\": \"slow\"}\n",
    "    aliens.append(new_alien)\n",
    "for alien in aliens[:3]:\n",
    "    alien[\"color\"] = \"yellow\"\n",
    "    alien[\"points\"] = 10\n",
    "    alien[\"speed\"] = \"medium\"\n",
    "for alien in aliens[:5]:\n",
    "    print(alien)\n",
    "print(\"...\\n\")\n",
    "\n",
    "#方法2：\n",
    "aliens=[]\n",
    "for alinen_number in range(30):\n",
    "    new_alien = {\"color\": \"green\", \"points\": 5, \"speed\": \"slow\"}\n",
    "    aliens.append(new_alien)\n",
    "for alien in aliens[:3]:\n",
    "    if alien[\"color\"] == \"green\":\n",
    "        alien[\"color\"] = \"yellow\"\n",
    "        alien[\"points\"] = 10\n",
    "        alien[\"speed\"] = \"medium\"\n",
    "for alien in aliens[:5]:\n",
    "    print(alien)\n",
    "print(\"...\\n\")\n",
    "\n",
    "#进一步扩展循环，添加elif代码块，黄色外星人改为移速快且值15分红色外星人\n",
    "for alien in aliens[:3]:\n",
    "    if alien[\"color\"] == \"green\":\n",
    "        alien[\"color\"] = \"yellow\"\n",
    "        alien[\"points\"] = 10\n",
    "        alien[\"speed\"] = \"medium\"\n",
    "    elif alien[\"color\"] == \"yellow\":\n",
    "        alien[\"color\"] = \"red\"\n",
    "        alien[\"points\"] = 15\n",
    "        alien[\"speed\"] = \"fast\""
   ]
  },
  {
   "cell_type": "code",
   "execution_count": null,
   "metadata": {},
   "outputs": [
    {
     "name": "stdout",
     "output_type": "stream",
     "text": [
      "You ordered a thick-crust pizza with the following toppings:\n",
      "\tmushrooms\n",
      "\textra cheese\n"
     ]
    }
   ],
   "source": [
    "pizza = {\n",
    "    \"crust\":\"thick\",\n",
    "    \"toppings\":[\"mushrooms\",\"extra cheese\"],  #字典中一个键对应多个值时，嵌套一个列表\n",
    "}\n",
    "print(f\"You ordered a {pizza['crust']}-crust pizza with the following toppings:\")\n",
    "for topping in pizza[\"toppings\"]:\n",
    "    print(f\"\\t{topping}\")"
   ]
  },
  {
   "cell_type": "code",
   "execution_count": 9,
   "metadata": {},
   "outputs": [
    {
     "name": "stdout",
     "output_type": "stream",
     "text": [
      "Jen's favourite languages are:\n",
      "\tPython\n",
      "\tRuby\n",
      "Sarah's favourite languages are:\n",
      "\tC\n",
      "Edward's favourite languages are:\n",
      "\tRuby\n",
      "\tGo\n",
      "Phil's favourite languages are:\n",
      "\tPython\n",
      "\tHaskell\n"
     ]
    }
   ],
   "source": [
    "favourite_languages = {\n",
    "    \"jen\":[\"python\",\"ruby\"],\n",
    "    \"sarah\":[\"c\"],\n",
    "    \"edward\":[\"ruby\",\"go\"],\n",
    "    \"phil\":[\"python\",\"haskell\"],\n",
    "}\n",
    "for name,languages in favourite_languages.items():\n",
    "    print(f\"{name.title()}'s favourite languages are:\")\n",
    "    for language in languages:\n",
    "        print(f\"\\t{language.title()}\")"
   ]
  },
  {
   "cell_type": "code",
   "execution_count": 13,
   "metadata": {},
   "outputs": [
    {
     "name": "stdout",
     "output_type": "stream",
     "text": [
      "Jen's favourite languages are:\n",
      "\tPython\n",
      "\tRuby\n",
      "Sarah's favourite language is:\n",
      "\tC\n",
      "Edward's favourite languages are:\n",
      "\tRuby\n",
      "\tGo\n",
      "Phil's favourite languages are:\n",
      "\tPython\n",
      "\tHaskell\n"
     ]
    }
   ],
   "source": [
    "#上例子自己试探\n",
    "favourite_languages = {\n",
    "    \"jen\":[\"python\",\"ruby\"],\n",
    "    \"sarah\":[\"c\"],\n",
    "    \"edward\":[\"ruby\",\"go\"],\n",
    "    \"phil\":[\"python\",\"haskell\"],\n",
    "}\n",
    "for name,languages in favourite_languages.items():\n",
    "    if len(languages) == 1:\n",
    "        print(f\"{name.title()}'s favourite language is:\")\n",
    "        for language in languages:\n",
    "            print(f\"\\t{language.title()}\") #for后循环要缩进 \n",
    "    else:\n",
    "        print(f\"{name.title()}'s favourite languages are:\")\n",
    "        for language in languages:\n",
    "            print(f\"\\t{language.title()}\")\n"
   ]
  },
  {
   "cell_type": "code",
   "execution_count": null,
   "metadata": {},
   "outputs": [
    {
     "name": "stdout",
     "output_type": "stream",
     "text": [
      "sarah's favourite language is ['c']:\n"
     ]
    }
   ],
   "source": [
    "#动手练习\n",
    "favourite_languages = {\n",
    "    \"jen\":[\"python\",\"ruby\"],\n",
    "    \"sarah\":[\"c\"],\n",
    "    \"edward\":[\"ruby\",\"go\"],\n",
    "    \"phil\":[\"python\",\"haskell\"],\n",
    "}\n",
    "for name,languages in favourite_languages.items():\n",
    "    if len(languages) == 1:\n",
    "        print(f\"{name}'s favourite language is {languages}:\")\n",
    "#这里不再对languages进行for循环的话，则输出为列表形式"
   ]
  },
  {
   "cell_type": "code",
   "execution_count": 16,
   "metadata": {},
   "outputs": [
    {
     "name": "stdout",
     "output_type": "stream",
     "text": [
      "\n",
      "Username:aeinstein\n",
      "\tFull name:Albert Einstein\n",
      "\tLocation:Princeton\n",
      "\n",
      "Username:mcurie\n",
      "\tFull name:Marie Curie\n",
      "\tLocation:Paris\n"
     ]
    }
   ],
   "source": [
    "#字典中存储字典\n",
    "users = {\n",
    "    \"aeinstein\":{\n",
    "        \"first\":\"albert\",\n",
    "        \"last\":\"einstein\",\n",
    "        \"location\":\"princeton\",\n",
    "    },                          #注意字典中字典也要用，隔开\n",
    "\n",
    "    \"mcurie\":{\n",
    "        \"first\":\"marie\",\n",
    "        \"last\":\"curie\",\n",
    "        \"location\":\"paris\",\n",
    "    },\n",
    "\n",
    "}\n",
    "#首先创建一个users的字典，其中有两个键（用户名aeinstein和mcurie），每个键对应一个字典\n",
    "for username,user_info in users.items():   \n",
    "    #此处用item出去出来一个为字符串，一个为字典\n",
    "    print(f\"\\nUsername:{username}\")\n",
    "    full_name = f\"{user_info[\"first\"]} {user_info[\"last\"]}\"\n",
    "    location = user_info[\"location\"]\n",
    "\n",
    "    print(f\"\\tFull name:{full_name.title()}\")\n",
    "    print(f\"\\tLocation:{location.title()}\")\n",
    "#6-10"
   ]
  },
  {
   "cell_type": "code",
   "execution_count": 17,
   "metadata": {},
   "outputs": [
    {
     "name": "stdout",
     "output_type": "stream",
     "text": [
      "\n",
      "user's name :aeinstein\n",
      "full_name:albert einstein\n",
      "location:princeton\n",
      "\n",
      "user's name :mcurie\n",
      "full_name:marie curie\n",
      "location:paris\n"
     ]
    }
   ],
   "source": [
    "#上例复现\n",
    "users = {\n",
    "    \"aeinstein\":{\n",
    "        \"first\":\"albert\",\n",
    "        \"last\":\"einstein\",\n",
    "        \"location\":\"princeton\",\n",
    "    },                          #注意字典中字典也要用，隔开\n",
    "\n",
    "    \"mcurie\":{\n",
    "        \"first\":\"marie\",\n",
    "        \"last\":\"curie\",\n",
    "        \"location\":\"paris\",\n",
    "    },\n",
    "\n",
    "}\n",
    "\n",
    "for username,userinfo in users.items():\n",
    "    print(f\"\\nuser's name :{username}\")\n",
    "    print(f\"full_name:{userinfo[\"first\"]} {userinfo[\"last\"]}\")\n",
    "    print(f\"location:{userinfo[\"location\"]}\")\n",
    "\n"
   ]
  }
 ],
 "metadata": {
  "kernelspec": {
   "display_name": "Python 3",
   "language": "python",
   "name": "python3"
  },
  "language_info": {
   "codemirror_mode": {
    "name": "ipython",
    "version": 3
   },
   "file_extension": ".py",
   "mimetype": "text/x-python",
   "name": "python",
   "nbconvert_exporter": "python",
   "pygments_lexer": "ipython3",
   "version": "3.12.2"
  }
 },
 "nbformat": 4,
 "nbformat_minor": 2
}
