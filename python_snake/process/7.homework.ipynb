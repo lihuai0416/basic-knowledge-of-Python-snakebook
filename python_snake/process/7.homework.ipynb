{
 "cells": [
  {
   "cell_type": "markdown",
   "metadata": {},
   "source": [
    " <font size=\"5\">第七章作业(2024.11.15)"
   ]
  },
  {
   "cell_type": "code",
   "execution_count": null,
   "metadata": {},
   "outputs": [
    {
     "name": "stdout",
     "output_type": "stream",
     "text": [
      "Let me see if I can find you a Saburu\n"
     ]
    }
   ],
   "source": [
    "# 7.1\n",
    "car = input(\"What car you want to buy?\")\n",
    "print(f\"Let me see if I can find you a {car.title()}\")"
   ]
  },
  {
   "cell_type": "code",
   "execution_count": 4,
   "metadata": {},
   "outputs": [
    {
     "name": "stdout",
     "output_type": "stream",
     "text": [
      "Sorry,You need to wait.\n"
     ]
    }
   ],
   "source": [
    "# 7.2\n",
    "number = input(\"How many people in the restaurant?\")\n",
    "number = int(number)\n",
    "if number > 8:\n",
    "    print(\"Sorry,You need to wait.\")\n",
    "else:\n",
    "    print(\"Welcome.\")"
   ]
  },
  {
   "cell_type": "code",
   "execution_count": 7,
   "metadata": {},
   "outputs": [
    {
     "name": "stdout",
     "output_type": "stream",
     "text": [
      "100 is a multiple of 10\n"
     ]
    }
   ],
   "source": [
    "# 7.3\n",
    "number = input(\"input a number:\")\n",
    "number = int(number)\n",
    "if number % 10 == 0:\n",
    "    print(f\"{number} is a multiple of 10\")\n",
    "else:\n",
    "    print(f\"{number} is not a multiple of 10\")"
   ]
  },
  {
   "cell_type": "code",
   "execution_count": 17,
   "metadata": {},
   "outputs": [
    {
     "name": "stdout",
     "output_type": "stream",
     "text": [
      "add apple\n",
      "add banana\n",
      "add juice\n",
      "add chicken\n"
     ]
    }
   ],
   "source": [
    "#7,4\n",
    "add = input(\"What you want to add?\")\n",
    "while True:\n",
    "    if add != \"quit\":\n",
    "        print(f\"add {add}\")\n",
    "        add = input(\"What you want to add?\")  #注意这一步，容易忽略\n",
    "    else: \n",
    "        break\n"
   ]
  },
  {
   "cell_type": "code",
   "execution_count": 18,
   "metadata": {},
   "outputs": [
    {
     "name": "stdout",
     "output_type": "stream",
     "text": [
      "\n",
      "there are what we want to add:\n",
      "apple\n",
      "banana\n",
      "juice\n",
      "chicken\\\n"
     ]
    }
   ],
   "source": [
    "# 7.4 - 练习 输入要添加的配料，一次性打出来\n",
    "add = input(\"What you want to add?\")\n",
    "list_add = []\n",
    "while True:\n",
    "    list_add.append(add)\n",
    "    add = input(\"What you want to add?\")\n",
    "    if add == 'quit':\n",
    "        break\n",
    "print(\"\\nthere are what we want to add:\")\n",
    "for ad in list_add:\n",
    "    print(ad)"
   ]
  },
  {
   "cell_type": "code",
   "execution_count": null,
   "metadata": {},
   "outputs": [
    {
     "name": "stdout",
     "output_type": "stream",
     "text": [
      "Your ticket is $15\n"
     ]
    }
   ],
   "source": [
    "# 7.5\n",
    "number = input(\"How old are you?\")\n",
    "number = int(number)\n",
    "while True:\n",
    "    if number < 3:\n",
    "        print(\"Your ticket is free\")\n",
    "    elif number <= 12:\n",
    "        print(\"Your ticket is $10\")\n",
    "    else:\n",
    "        print(\"Your ticket is $15\")\n",
    "    break"
   ]
  },
  {
   "cell_type": "code",
   "execution_count": null,
   "metadata": {},
   "outputs": [],
   "source": [
    "# 7.6 - 1 条件语句\n",
    "add = input(\"What you want to add?\")\n",
    "while True:\n",
    "    if add != \"quit\":\n",
    "        print(f\"add {add}\")\n",
    "        add = input(\"What you want to add?\") \n",
    "    else: \n",
    "        break"
   ]
  },
  {
   "cell_type": "code",
   "execution_count": null,
   "metadata": {},
   "outputs": [
    {
     "name": "stdout",
     "output_type": "stream",
     "text": [
      "add apple\n",
      "add banana\n",
      "add jucie\n"
     ]
    }
   ],
   "source": [
    "# 7.6 - 2 变量active控制循环\n",
    "add = input(\"What you want to add?\")\n",
    "active = True\n",
    "while active:\n",
    "    if add != \"quit\":\n",
    "        print(f\"add {add}\")\n",
    "        add = input(\"What you want to add?\") \n",
    "    else: \n",
    "        break"
   ]
  },
  {
   "cell_type": "code",
   "execution_count": 24,
   "metadata": {},
   "outputs": [
    {
     "name": "stdout",
     "output_type": "stream",
     "text": [
      "I made your a_sandwich\n",
      "I made your b_sandwich\n",
      "I made your c_sandwich\n",
      "there are some sandwiches which finished:\n",
      "a_sandwich\n",
      "b_sandwich\n",
      "c_sandwich\n"
     ]
    }
   ],
   "source": [
    "# 7.8\n",
    "sandwich_orders = [\"a_sandwich\",\"b_sandwich\",\"c_sandwich\"]\n",
    "finished_sandwiches = []\n",
    "for order in sandwich_orders:\n",
    "    print(f\"I made your {order}\")\n",
    "    finished_sandwiches.append(order)\n",
    "print(\"there are some sandwiches which finished:\")\n",
    "for order2 in finished_sandwiches:\n",
    "    print(order2)"
   ]
  },
  {
   "cell_type": "code",
   "execution_count": null,
   "metadata": {},
   "outputs": [
    {
     "name": "stdout",
     "output_type": "stream",
     "text": [
      "Sorry,pastrami_sandwich is sold out.\n",
      "['a_sandwich', 'b_sandwich', 'c_sandwich']\n"
     ]
    }
   ],
   "source": [
    "# 7.9\n",
    "sandwich_orders = [\"a_sandwich\",\"pastrami_sandwich\",\"b_sandwich\",\"c_sandwich\",\"pastrami_sandwich\",\"pastrami_sandwich\"]\n",
    "print(\"Sorry,pastrami_sandwich is sold out.\")\n",
    "while \"pastrami_sandwich\" in sandwich_orders:\n",
    "    sandwich_orders.remove(\"pastrami_sandwich\")\n",
    "print(sandwich_orders)"
   ]
  },
  {
   "cell_type": "code",
   "execution_count": 27,
   "metadata": {},
   "outputs": [
    {
     "name": "stdout",
     "output_type": "stream",
     "text": [
      "\n",
      "--- Poll Results ---\n",
      "Lihuai would like to go to Guangzhou\n",
      "Dunengqiong would like to go to Chengdu\n",
      "Liyu would like to go to Danmai\n",
      "Lizhicheng would like to go to Nanjiang\n"
     ]
    }
   ],
   "source": [
    "# 7.10\n",
    "name_prompt = \"\\nPlease enter your name:\"\n",
    "place_prompt = \"If you could visit one place in the world,where would you go?\"\n",
    "continue_prompt = \"\\nWould you like to let someone else respond?(yes/no)\"\n",
    "responses = {}\n",
    "while True:\n",
    "    name = input(name_prompt)\n",
    "    place = input(place_prompt)\n",
    "    responses[name] = place\n",
    "    repeat = input(continue_prompt)\n",
    "    if repeat == 'no':\n",
    "        break\n",
    "print(\"\\n--- Poll Results ---\")\n",
    "for name,place in responses.items():\n",
    "    print(f\"{name.title()} would like to go to {place.title()}\")"
   ]
  }
 ],
 "metadata": {
  "kernelspec": {
   "display_name": "Python 3",
   "language": "python",
   "name": "python3"
  },
  "language_info": {
   "codemirror_mode": {
    "name": "ipython",
    "version": 3
   },
   "file_extension": ".py",
   "mimetype": "text/x-python",
   "name": "python",
   "nbconvert_exporter": "python",
   "pygments_lexer": "ipython3",
   "version": "3.12.2"
  }
 },
 "nbformat": 4,
 "nbformat_minor": 2
}
