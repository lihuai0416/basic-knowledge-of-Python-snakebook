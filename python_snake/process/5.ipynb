{
 "cells": [
  {
   "cell_type": "markdown",
   "metadata": {},
   "source": [
    " <font size=\"5\">第五章 if语句 (2024.11.13)"
   ]
  },
  {
   "cell_type": "markdown",
   "metadata": {},
   "source": [
    " <font size=\"4\">5.1 简单示例"
   ]
  },
  {
   "cell_type": "code",
   "execution_count": 3,
   "metadata": {},
   "outputs": [
    {
     "name": "stdout",
     "output_type": "stream",
     "text": [
      "audi\n",
      "BMW\n",
      "subaru\n",
      "toyota\n"
     ]
    }
   ],
   "source": [
    "cars = [\"audi\",\"bmw\",\"subaru\",\"toyota\"]\n",
    "for car in cars:\n",
    "    if car == \"bmw\":    #python中=的作用是赋值，==的作用是判断\n",
    "        print(car.upper())\n",
    "    else:\n",
    "        print(car)\n",
    "#输出列表中车的名称，若为bmw，则全大写打印"
   ]
  },
  {
   "cell_type": "markdown",
   "metadata": {},
   "source": [
    " <font size=\"4\">5.2 条件测试"
   ]
  },
  {
   "cell_type": "code",
   "execution_count": null,
   "metadata": {},
   "outputs": [
    {
     "name": "stdout",
     "output_type": "stream",
     "text": [
      "True\n",
      "False\n",
      "False\n",
      "True\n",
      "Audi\n"
     ]
    }
   ],
   "source": [
    "#判断是否相等 ==\n",
    "car = \"bmw\"\n",
    "print(car == \"bmw\")\n",
    "# ==的判断作用的形象体现\n",
    "print(car == \"Audi\")\n",
    "print(car == \"Bmw\") #输出结果为False，判断时区分大小写\n",
    "# 如果大小写无关紧要，一种处理方法\n",
    "car = \"Audi\"\n",
    "print(car.lower() == \"audi\")\n",
    "print(car) #lower不会影响car的值"
   ]
  },
  {
   "cell_type": "code",
   "execution_count": null,
   "metadata": {},
   "outputs": [
    {
     "name": "stdout",
     "output_type": "stream",
     "text": [
      "Hold the anchovies!\n"
     ]
    }
   ],
   "source": [
    "#检查是否不等  !=\n",
    "requested_topping = \"mushrooms\"\n",
    "if requested_topping!= \"anchovies\":  #python在判断符返回true之后才回往下继续执行\n",
    "    print(\"Hold the anchovies!\")"
   ]
  },
  {
   "cell_type": "code",
   "execution_count": null,
   "metadata": {},
   "outputs": [
    {
     "name": "stdout",
     "output_type": "stream",
     "text": [
      "True\n",
      "your answer is wrong\n",
      "True\n",
      "True\n",
      "True\n",
      "False\n"
     ]
    }
   ],
   "source": [
    "#数值比较\n",
    "age = 18\n",
    "print(age == 18)\n",
    "answer = 17\n",
    "if answer != 18:\n",
    "    print(\"your answer is wrong\")\n",
    "age = 19\n",
    "print(age<=21)\n",
    "print(age>=19)\n",
    "print(age>18)\n",
    "print(age<17)"
   ]
  },
  {
   "cell_type": "code",
   "execution_count": 24,
   "metadata": {},
   "outputs": [
    {
     "name": "stdout",
     "output_type": "stream",
     "text": [
      "False\n",
      "True\n",
      "True\n"
     ]
    }
   ],
   "source": [
    "#检查多个条件 and/or\n",
    "age_0 = 22\n",
    "age_1 = 24\n",
    "print(age_0>=23 and age_1>=23)  #和 都满足\n",
    "print(age_0>=23 or age_1>=23)   #或 至少一个满足\n",
    "print((age_0>=23)or(age_1>=23)) #括号可加可不加\n",
    "\n"
   ]
  },
  {
   "cell_type": "code",
   "execution_count": null,
   "metadata": {},
   "outputs": [
    {
     "name": "stdout",
     "output_type": "stream",
     "text": [
      "True\n",
      "False\n"
     ]
    }
   ],
   "source": [
    "#检测特定的值在列表中 关键字in；\n",
    "car = [\"bmw\",\"audi\",\"toyota\",\"subaru\"]\n",
    "print(\"bmw\" in car)\n",
    "print(\"lixiang\" in car)"
   ]
  },
  {
   "cell_type": "code",
   "execution_count": 26,
   "metadata": {},
   "outputs": [
    {
     "name": "stdout",
     "output_type": "stream",
     "text": [
      "Jxy,you can post a response if you wish.\n"
     ]
    }
   ],
   "source": [
    "#检测特定的值不在列表中 关键字not in\n",
    "banned_users = [\"lh\",\"wch\",\"zj\"]\n",
    "user = \"jxy\"\n",
    "if user not in banned_users:\n",
    "    print(f\"{user.title()},you can post a response if you wish.\")"
   ]
  },
  {
   "cell_type": "code",
   "execution_count": null,
   "metadata": {},
   "outputs": [
    {
     "name": "stdout",
     "output_type": "stream",
     "text": [
      "False\n"
     ]
    }
   ],
   "source": [
    "#布尔表达式 -- 条件测试的别名\n",
    "game_active = True\n",
    "print(not game_active)  #not运算符，值取反\n",
    "#布尔值：只有两个可能得值，True和False"
   ]
  },
  {
   "cell_type": "markdown",
   "metadata": {},
   "source": [
    " <font size=\"4\">5.3 if语句"
   ]
  },
  {
   "cell_type": "code",
   "execution_count": null,
   "metadata": {},
   "outputs": [
    {
     "name": "stdout",
     "output_type": "stream",
     "text": [
      "you are old enough to vote\n",
      "have you registered to vote yet?\n"
     ]
    }
   ],
   "source": [
    "age = 19\n",
    "if age >= 18:    \n",
    "    print(\"you are old enough to vote\")\n",
    "    print(\"have you registered to vote yet?\")\n",
    "#两行都缩进了，下面两行都被执行"
   ]
  },
  {
   "cell_type": "code",
   "execution_count": null,
   "metadata": {},
   "outputs": [
    {
     "name": "stdout",
     "output_type": "stream",
     "text": [
      "Sorry, you are too young to vote.\n",
      "Please register to vote as soon as you turn 18!\n"
     ]
    }
   ],
   "source": [
    "#if - else语句 -- 适用于两种情形\n",
    "age = 17\n",
    "if age >= 18:\n",
    "    print(\"You are old enough to vote!\")\n",
    "    print(\"Have you registered to vote yet?\")\n",
    "else:\n",
    "    print(\"Sorry, you are too young to vote.\")\n",
    "    print(\"Please register to vote as soon as you turn 18!\")"
   ]
  },
  {
   "cell_type": "code",
   "execution_count": 5,
   "metadata": {},
   "outputs": [
    {
     "name": "stdout",
     "output_type": "stream",
     "text": [
      "Your admission cost is $25.\n",
      "Your admission cost is $25.\n"
     ]
    }
   ],
   "source": [
    "#if - elif - else语句 -- 两种以上情形\n",
    "age = 12\n",
    "if age < 4:\n",
    "    print(\"Your admission cost is $0.\")\n",
    "elif age < 18:\n",
    "    print(\"Your admission cost is $25.\")\n",
    "else:\n",
    "    print(\"Your admission cost is $40.\")\n",
    "#elif 也可看做一个if语句，再上面if未通过时，再进行判断。也不成立则输出else\n",
    "\n",
    "#简洁代码\n",
    "age = 12\n",
    "if age < 4:\n",
    "    price = 0\n",
    "elif age < 18:\n",
    "    price = 25\n",
    "else:\n",
    "    price = 40\n",
    "print(f\"Your admission cost is ${price}.\")"
   ]
  },
  {
   "cell_type": "code",
   "execution_count": null,
   "metadata": {},
   "outputs": [
    {
     "name": "stdout",
     "output_type": "stream",
     "text": [
      "Your admission cost is $10.\n"
     ]
    }
   ],
   "source": [
    "age = 12\n",
    "if age < 4:\n",
    "    price = 0\n",
    "elif age < 10:\n",
    "    price = 5\n",
    "elif age < 18:\n",
    "    price = 10\n",
    "elif age < 65:\n",
    "    price = 10\n",
    "elif age >= 65:\n",
    "    price = 5\n",
    "print(f\"Your admission cost is ${price}.\")\n",
    "#注意 逻辑顺序为从上到下，知道满足条件为止，到elif age < 18:，意味着其肯定>=10"
   ]
  },
  {
   "cell_type": "code",
   "execution_count": null,
   "metadata": {},
   "outputs": [
    {
     "name": "stdout",
     "output_type": "stream",
     "text": [
      "adding mushrooms\n",
      "adding pineapple\n",
      "\n",
      "Finished making your pizza!\n",
      "adding mushrooms\n",
      "\n",
      "Finished making your pizza!\n"
     ]
    }
   ],
   "source": [
    "#if - elif - else语句仅适用于一个条件满足的情况，一个通过后会跳过余下的测试\n",
    "requested_topping = [\"mushrooms\",\"onions\",\"pineapple\"]\n",
    "if \"mushrooms\"  in requested_topping:\n",
    "    print(\"adding mushrooms\")\n",
    "if \"pepperoni\" in requested_topping:   #仍然if，无论上面是否通过都将执行\n",
    "    print(\"adding pepperoni\")\n",
    "if \"pineapple\" in requested_topping:\n",
    "    print(\"adding pineapple\")\n",
    "print(\"\\nFinished making your pizza!\")\n",
    "\n",
    "#若为下面的代码，则不会再检查是否有pepperoni和pineapple，因为if已成立\n",
    "requested_topping = [\"mushrooms\",\"onions\",\"pineapple\"]\n",
    "if \"mushrooms\"  in requested_topping:\n",
    "    print(\"adding mushrooms\")\n",
    "elif \"pepperoni\" in requested_topping:   #仍然if，无论上面是否通过都将执行\n",
    "    print(\"adding pepperoni\")\n",
    "elif \"pineapple\" in requested_topping:\n",
    "    print(\"adding pineapple\")\n",
    "print(\"\\nFinished making your pizza!\")\n"
   ]
  },
  {
   "cell_type": "code",
   "execution_count": 6,
   "metadata": {},
   "outputs": [
    {
     "name": "stdout",
     "output_type": "stream",
     "text": [
      "Hello,dwy.\n",
      "Hello,zj.\n",
      "Hello,dwy.\n",
      "Hello,dwy.\n",
      "Hello,zj.\n"
     ]
    }
   ],
   "source": [
    "#试探 理解if成立时 elif不作用\n",
    "member = [\"lh\",\"zj\",\"dwy\",\"gyt\"]\n",
    "if \"dwy\" in member:\n",
    "    print(\"Hello,dwy.\")\n",
    "if \"jxy\" in member:\n",
    "    print(\"Hello,jxy.\")\n",
    "if \"zj\" in member:\n",
    "    print(\"Hello,zj.\")\n",
    "\n",
    "member = [\"lh\",\"zj\",\"dwy\",\"gyt\"]\n",
    "if \"dwy\" in member:\n",
    "    print(\"Hello,dwy.\")\n",
    "elif \"jxy\" in member:\n",
    "    print(\"Hello,jxy.\")\n",
    "elif \"zj\" in member:\n",
    "    print(\"Hello,zj.\")\n",
    "#下面的输出结果就没有zj，因为挡第一个if满足之后后面elif就不作用了\n",
    "\n",
    "members = [\"lh\",\"zj\",\"dwy\",\"gyt\"]\n",
    "members2 = [\"dwy\",\"jxy\",\"zj\"]\n",
    "for people in members2:\n",
    "    if people in members:\n",
    "        print(f\"Hello,{people}.\") \n"
   ]
  },
  {
   "cell_type": "markdown",
   "metadata": {},
   "source": [
    " <font size=\"4\">5.4 使用if语句处理列表"
   ]
  },
  {
   "cell_type": "code",
   "execution_count": 12,
   "metadata": {},
   "outputs": [
    {
     "name": "stdout",
     "output_type": "stream",
     "text": [
      "Adding mushrooms\n",
      "Adding green peppers\n",
      "Adding extra cheese\n",
      "\n",
      "Finished making your pizza!\n"
     ]
    }
   ],
   "source": [
    "requested_topping = [\"mushrooms\", \"green peppers\", \"extra cheese\"]\n",
    "for requested_topping in requested_topping:\n",
    "    print(f\"Adding {requested_topping}\")\n",
    "\n",
    "print(\"\\nFinished making your pizza!\")"
   ]
  },
  {
   "cell_type": "code",
   "execution_count": 13,
   "metadata": {},
   "outputs": [
    {
     "name": "stdout",
     "output_type": "stream",
     "text": [
      "Adding mushrooms\n",
      "Sorry, we are out of green peppers right now.\n",
      "Adding extra cheese\n",
      "\n",
      "Finished making your pizza!\n"
     ]
    }
   ],
   "source": [
    "#如果上述中配料green peppers 已经用完了：\n",
    "requested_topping = [\"mushrooms\", \"green peppers\", \"extra cheese\"]\n",
    "for requested_topping in requested_topping:\n",
    "    if requested_topping == \"green peppers\":\n",
    "        print(\"Sorry, we are out of green peppers right now.\")\n",
    "    else:\n",
    "        print(f\"Adding {requested_topping}\")\n",
    "print(\"\\nFinished making your pizza!\")"
   ]
  },
  {
   "cell_type": "code",
   "execution_count": 7,
   "metadata": {},
   "outputs": [
    {
     "name": "stdout",
     "output_type": "stream",
     "text": [
      "Are you sure you want a plain pizza?\n"
     ]
    }
   ],
   "source": [
    "#确定列表非空\n",
    "requested_topping = []\n",
    "if requested_topping:   #注意if中讲requested_topping作为条件表达式（必须）\n",
    "                        #在requested_topping至少有1个元素时将会返回True\n",
    "                        #否则返回False，这里为空列表，返回false，进入else语句\n",
    "    for requested_topping in requested_topping:\n",
    "        print(f\"Adding {requested_topping}.\")\n",
    "    print(\"\\nFinished making your pizza!\")\n",
    "else:\n",
    "    print(\"Are you sure you want a plain pizza?\")\n",
    "#对于数值0、空值NONE、单/双引号空字符串''/\"\"、空列表[]、空元组()、空字典{}都返回False"
   ]
  },
  {
   "cell_type": "code",
   "execution_count": null,
   "metadata": {},
   "outputs": [
    {
     "name": "stdout",
     "output_type": "stream",
     "text": [
      "Adding mushrooms.\n",
      "Sorry, we don't have french fries.\n",
      "Adding extra cheese.\n",
      "\n",
      "Finished making your pizza!\n"
     ]
    }
   ],
   "source": [
    "available_toppings = ['mushrooms', 'olives', 'green peppers', 'pepperoni', 'pineapple', 'extra cheese']\n",
    "requested_toppings = ['mushrooms', 'french fries', 'extra cheese']\n",
    "for requested_topping in requested_toppings:\n",
    "    if requested_topping in available_toppings:\n",
    "        print(f\"Adding {requested_topping}.\")\n",
    "    else:\n",
    "        print(f\"Sorry, we don't have {requested_topping}.\")\n",
    "print(\"\\nFinished making your pizza!\")"
   ]
  },
  {
   "cell_type": "markdown",
   "metadata": {},
   "source": [
    " <font size=\"4\">5.5 设置if语句的格式"
   ]
  },
  {
   "cell_type": "markdown",
   "metadata": {},
   "source": [
    " <font size=\"2\">在<、>、>=、<=、==、!=等运算符中，左右各添加一个空格"
   ]
  }
 ],
 "metadata": {
  "kernelspec": {
   "display_name": "Python 3",
   "language": "python",
   "name": "python3"
  },
  "language_info": {
   "codemirror_mode": {
    "name": "ipython",
    "version": 3
   },
   "file_extension": ".py",
   "mimetype": "text/x-python",
   "name": "python",
   "nbconvert_exporter": "python",
   "pygments_lexer": "ipython3",
   "version": "3.12.2"
  }
 },
 "nbformat": 4,
 "nbformat_minor": 2
}
