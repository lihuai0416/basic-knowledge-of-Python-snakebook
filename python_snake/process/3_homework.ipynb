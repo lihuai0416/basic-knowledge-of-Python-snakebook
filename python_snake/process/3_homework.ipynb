{
 "cells": [
  {
   "cell_type": "markdown",
   "metadata": {},
   "source": [
    " <font size=\"5\">第三章作业(2024.11.10)"
   ]
  },
  {
   "cell_type": "code",
   "execution_count": null,
   "metadata": {},
   "outputs": [
    {
     "name": "stdout",
     "output_type": "stream",
     "text": [
      "zxs\n",
      "zch\n",
      "zxc\n"
     ]
    }
   ],
   "source": [
    "#3.1\n",
    "names = [\"zxs\",\"zch\",\"zxc\"]\n",
    "print (names[0])\n",
    "print (names[1])\n",
    "print (names[-1])"
   ]
  },
  {
   "cell_type": "code",
   "execution_count": 2,
   "metadata": {},
   "outputs": [
    {
     "name": "stdout",
     "output_type": "stream",
     "text": [
      "zxs is my friend\n",
      "zch is my friend\n",
      "zxc is my friend\n"
     ]
    }
   ],
   "source": [
    "#3.2\n",
    "names = [\"zxs\",\"zch\",\"zxc\"]\n",
    "print(f\"{names[0]} is my friend\")\n",
    "print(f\"{names[1]} is my friend\")\n",
    "print(f\"{names[-1]} is my friend\")"
   ]
  },
  {
   "cell_type": "code",
   "execution_count": 3,
   "metadata": {},
   "outputs": [
    {
     "name": "stdout",
     "output_type": "stream",
     "text": [
      "I would like to own a Honda motorcycle.\n"
     ]
    }
   ],
   "source": [
    "#3.3\n",
    "motorcycles = ['honda','yamaha','suzuki']\n",
    "print(f\"I would like to own a {motorcycles[0].title()} motorcycle.\")"
   ]
  },
  {
   "cell_type": "code",
   "execution_count": null,
   "metadata": {},
   "outputs": [
    {
     "name": "stdout",
     "output_type": "stream",
     "text": [
      "Hello,my dear friends:zxs、zch、zxc.I am so excited to invite you to join my party.\n"
     ]
    }
   ],
   "source": [
    "#3.4\n",
    "names = [\"zxs\",\"zch\",\"zxc\"]\n",
    "print(f\"Hello,my dear friends:{names[0]}、{names[1]}、{names[2]}.I am so excited to invite you to have dinner together.\" )"
   ]
  },
  {
   "cell_type": "code",
   "execution_count": 13,
   "metadata": {},
   "outputs": [
    {
     "name": "stdout",
     "output_type": "stream",
     "text": [
      "zxc\n",
      "['zxs', 'zch', 'swh']\n",
      "Hello,my dear friends:zxs、zch、swh.I am so excited to invite you to have dinner together.\n"
     ]
    }
   ],
   "source": [
    "#3.5\n",
    "names = [\"zxs\",\"zch\",\"zxc\"]\n",
    "absent_member = names.pop(-1)\n",
    "print(absent_member)\n",
    "names.append(\"swh\")\n",
    "print(names)\n",
    "print(f\"Hello,my dear friends:{names[0]}、{names[1]}、{names[2]}.I am so excited to invite you to have dinner together.\" )"
   ]
  },
  {
   "cell_type": "code",
   "execution_count": null,
   "metadata": {},
   "outputs": [
    {
     "name": "stdout",
     "output_type": "stream",
     "text": [
      "['swh', 'zxs', 'zky', 'zch', 'zxc', 'xyy']\n",
      "Hello,my dear friends:swh、zxs、zky、zch、zxc、xyy.I am so excited to invite you to have dinner together.\n"
     ]
    }
   ],
   "source": [
    "#3.6\n",
    "names = [\"zxs\",\"zch\",\"zxc\"]\n",
    "names.insert(0,\"swh\")\n",
    "names.insert(2,\"zky\")\n",
    "names.append(\"xyy\")\n",
    "print(names)\n",
    "print(f\"Hello,my dear friends:{names[0]}、{names[1]}、{names[2]}、{names[3]}、{names[4]}、{names[5]}.I am so excited to invite you to have dinner together.\" )"
   ]
  },
  {
   "cell_type": "code",
   "execution_count": null,
   "metadata": {},
   "outputs": [
    {
     "name": "stdout",
     "output_type": "stream",
     "text": [
      "['swh', 'zxs', 'zky', 'zch', 'zxc', 'xyy']\n",
      "Hello,my dear friends:swh、zxs、zky、zch、zxc、xyy.I am so excited to invite you to have dinner together.\n",
      "I am sorry,swh,I can't invite you to have dinner.\n",
      "I am sorry,zxs,I can't invite you to have dinner.\n",
      "I am sorry,zky,I can't invite you to have dinner.\n",
      "I am sorry,zch,I can't invite you to have dinner.\n",
      "zxc,I still want you to have dinner\n",
      "xyy,I still want you to have dinner\n",
      "[]\n"
     ]
    }
   ],
   "source": [
    "#3.7\n",
    "names = [\"zxs\",\"zch\",\"zxc\"]\n",
    "names.insert(0,\"swh\")\n",
    "names.insert(2,\"zky\")\n",
    "names.append(\"xyy\")\n",
    "print(names)\n",
    "print(f\"Hello,my dear friends:{names[0]}、{names[1]}、{names[2]}、{names[3]}、{names[4]}、{names[5]}.I am so excited to invite you to have dinner together.\" )\n",
    "poped_name1 = names.pop(0)\n",
    "print(f\"I am sorry,{poped_name1},I can't invite you to have dinner.\")\n",
    "poped_name2 = names.pop(0)\n",
    "print(f\"I am sorry,{poped_name2},I can't invite you to have dinner.\")\n",
    "poped_name3 = names.pop(0)\n",
    "print(f\"I am sorry,{poped_name3},I can't invite you to have dinner.\")\n",
    "poped_name4 = names.pop(0)\n",
    "print(f\"I am sorry,{poped_name4},I can't invite you to have dinner.\")\n",
    "#注意 出现了一个错误 pop（）后不是0123排列，每pop一次列表变短一次，一直pop（0）则是顺序弹出，同理pop（-1）\n",
    "print(f\"{names[0]},I still want you to have dinner\")\n",
    "print(f\"{names[1]},I still want you to have dinner\")\n",
    "del names[0]\n",
    "del names[0]  #与上面的pop（0）一样，这里del names[0]后只剩一个，继续del names[0]即可,顺序删除\n",
    "              #如果是del names[1]则会报错，因为列表中只有一个元素了\n",
    "print(names)"
   ]
  },
  {
   "cell_type": "code",
   "execution_count": 23,
   "metadata": {},
   "outputs": [
    {
     "name": "stdout",
     "output_type": "stream",
     "text": [
      "['guangzhou', 'kangding', 'shantou', 'hongkong', 'chengdu']\n",
      "['chengdu', 'guangzhou', 'hongkong', 'kangding', 'shantou']\n",
      "['guangzhou', 'kangding', 'shantou', 'hongkong', 'chengdu']\n",
      "['shantou', 'kangding', 'hongkong', 'guangzhou', 'chengdu']\n",
      "['guangzhou', 'kangding', 'shantou', 'hongkong', 'chengdu']\n",
      "['chengdu', 'hongkong', 'shantou', 'kangding', 'guangzhou']\n",
      "['guangzhou', 'kangding', 'shantou', 'hongkong', 'chengdu']\n",
      "['chengdu', 'guangzhou', 'hongkong', 'kangding', 'shantou']\n",
      "['shantou', 'kangding', 'hongkong', 'guangzhou', 'chengdu']\n"
     ]
    }
   ],
   "source": [
    "#3.8\n",
    "places = [\"guangzhou\",\"kangding\",\"shantou\",\"hongkong\",\"chengdu\"]\n",
    "print(places)\n",
    "print(sorted(places))\n",
    "print(places)\n",
    "print(sorted(places,reverse=True))\n",
    "print(places)\n",
    "places.reverse()\n",
    "print(places)\n",
    "places.reverse()\n",
    "print(places)\n",
    "places.sort()\n",
    "print(places)\n",
    "places.sort(reverse=True)\n",
    "print(places)"
   ]
  },
  {
   "cell_type": "code",
   "execution_count": 24,
   "metadata": {},
   "outputs": [
    {
     "name": "stdout",
     "output_type": "stream",
     "text": [
      "3\n"
     ]
    }
   ],
   "source": [
    "#3.9\n",
    "names = [\"zxs\",\"zch\",\"zxc\"]\n",
    "print(len(names))"
   ]
  }
 ],
 "metadata": {
  "kernelspec": {
   "display_name": "Python 3",
   "language": "python",
   "name": "python3"
  },
  "language_info": {
   "codemirror_mode": {
    "name": "ipython",
    "version": 3
   },
   "file_extension": ".py",
   "mimetype": "text/x-python",
   "name": "python",
   "nbconvert_exporter": "python",
   "pygments_lexer": "ipython3",
   "version": "3.12.2"
  }
 },
 "nbformat": 4,
 "nbformat_minor": 2
}
