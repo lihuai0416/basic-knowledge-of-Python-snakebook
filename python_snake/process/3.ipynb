{
 "cells": [
  {
   "cell_type": "markdown",
   "metadata": {},
   "source": [
    " <font size=\"5\">第三章 列表简介 (2024.11.07-11.08)"
   ]
  },
  {
   "cell_type": "markdown",
   "metadata": {},
   "source": [
    " <font size=\"4\">3.1 列表（list）"
   ]
  },
  {
   "cell_type": "code",
   "execution_count": null,
   "metadata": {},
   "outputs": [
    {
     "name": "stdout",
     "output_type": "stream",
     "text": [
      "['liyu', 'lihuai', 'lizhicheng', 'dunengqiong']\n"
     ]
    }
   ],
   "source": [
    "family_member = [\"liyu\",\"lihuai\",\"lizhicheng\",\"dunengqiong\"]\n",
    "print(family_member)\n",
    "#列表元素用逗号隔开\n",
    "#试探\n",
    "#   family_member = [liyu,lihuai,lizhicheng,dunengqiong]\n",
    "#   print(family_member)\n",
    "#   列表中元素必须是可哈希的，即不可变的（整数、字符串等），上代码中看起来四个元素是变量名，不满足条件"
   ]
  },
  {
   "cell_type": "code",
   "execution_count": null,
   "metadata": {},
   "outputs": [
    {
     "name": "stdout",
     "output_type": "stream",
     "text": [
      "lihuai\n",
      "Lihuai\n",
      "lihuai\n",
      "dunengqiong\n",
      "dunengqiong\n",
      "Hello,My name is Lihuai.\n"
     ]
    }
   ],
   "source": [
    "family_member = [\"liyu\",\"lihuai\",\"lizhicheng\",\"dunengqiong\"]\n",
    "print(family_member[1])\n",
    "print(family_member[1].title())\n",
    "#将元素的位置（索引）告诉Python，可访问相应的位置--将索引放在[]内\n",
    "#同理 method也可以用于索引后的列表元素，如title()\n",
    "\n",
    "print(family_member[1])\n",
    "print(family_member[3])\n",
    "print(family_member[-1])\n",
    "#列表第一个元素是0，非1； 索引指定为-1 可以访问最后一个元素\n",
    "\n",
    "print(f\"Hello,My name is {family_member[1].title()}.\")\n",
    "#同理 f字符串也可以作用于索引后的列表元素\n",
    "#可以理解为索引后的列表元素可当做变量来处理"
   ]
  },
  {
   "cell_type": "markdown",
   "metadata": {},
   "source": [
    " <font size=\"4\">3.2 修改、添加和删除元素"
   ]
  },
  {
   "cell_type": "code",
   "execution_count": null,
   "metadata": {},
   "outputs": [
    {
     "name": "stdout",
     "output_type": "stream",
     "text": [
      "['liyu', 'lihuai', 'lizhicheng', 'dunengqiong']\n",
      "['liyu', 'lihao', 'lizhicheng', 'dunengqiong']\n"
     ]
    }
   ],
   "source": [
    "#修改元素列表的值\n",
    "family_member = [\"liyu\",\"lihuai\",\"lizhicheng\",\"dunengqiong\"]\n",
    "print (family_member)\n",
    "family_member[1]=\"lihao\"\n",
    "print (family_member)\n",
    "#此处修改位置[]内对应的数与索引同理"
   ]
  },
  {
   "cell_type": "code",
   "execution_count": null,
   "metadata": {},
   "outputs": [
    {
     "name": "stdout",
     "output_type": "stream",
     "text": [
      "['liyu', 'lihuai', 'lizhicheng', 'dunengqiong']\n",
      "['liyu', 'lihuai', 'lizhicheng', 'dunengqiong', 'guaiguai']\n",
      "['liyu', 'lihuai', 'lizhicheng', 'dunengqiong', 'guaiguai', 'mianbao']\n"
     ]
    }
   ],
   "source": [
    "#添加元素 append（追加） - 加到列表末尾\n",
    "family_member = [\"liyu\",\"lihuai\",\"lizhicheng\",\"dunengqiong\"]\n",
    "print(family_member)\n",
    "family_member.append(\"guaiguai\")\n",
    "print(family_member)\n",
    "member = \"mianbao\"\n",
    "family_member.append(member)\n",
    "print(family_member)\n",
    "#append 后面也可以是变量"
   ]
  },
  {
   "cell_type": "code",
   "execution_count": null,
   "metadata": {},
   "outputs": [
    {
     "name": "stdout",
     "output_type": "stream",
     "text": [
      "['guaiguai', 'liyu', 'lihuai', 'lizhicheng', 'dunengqiong']\n",
      "['guaiguai', 'mianbao', 'liyu', 'lihuai', 'lizhicheng', 'dunengqiong']\n",
      "['guaiguai', 'mianbao', 'liyu', 'lihuai', 'lizhicheng', 'dingding', 'dunengqiong']\n"
     ]
    }
   ],
   "source": [
    "#插入元素 insert\n",
    "family_member = [\"liyu\",\"lihuai\",\"lizhicheng\",\"dunengqiong\"]\n",
    "family_member.insert(0,\"guaiguai\")\n",
    "print(family_member)\n",
    "family_member.insert(1,\"mianbao\")\n",
    "print(family_member)\n",
    "# 0 插入在第一个 1 插入在第二个\n",
    "family_member.insert(-1,\"dingding\")\n",
    "print(family_member)\n",
    "# insert实际上是指插在对应数字索引位置的前面 0则第一个的前面变为第一个 1则第二个的前面变为第二个\n",
    "# 同理，-1则最后一个的前面为倒数第二个"
   ]
  },
  {
   "cell_type": "code",
   "execution_count": 4,
   "metadata": {},
   "outputs": [
    {
     "name": "stdout",
     "output_type": "stream",
     "text": [
      "['guaiguai', 'liyu', 'lihuai', 'lizhicheng', 'dunengqiong']\n",
      "['liyu', 'lihuai', 'lizhicheng', 'dunengqiong']\n",
      "['lihuai', 'lizhicheng', 'dunengqiong']\n"
     ]
    }
   ],
   "source": [
    "#删除元素 - del - del作用在列表前面\n",
    "family_member = [\"guaiguai\",\"liyu\",\"lihuai\",\"lizhicheng\",\"dunengqiong\"]\n",
    "print(family_member)\n",
    "del family_member[0]\n",
    "print(family_member)\n",
    "del family_member[0]\n",
    "print(family_member)\n",
    "#del删除后将无法访问"
   ]
  },
  {
   "cell_type": "code",
   "execution_count": null,
   "metadata": {},
   "outputs": [
    {
     "name": "stdout",
     "output_type": "stream",
     "text": [
      "li huai\n",
      "LI HUAI\n"
     ]
    }
   ],
   "source": [
    "#试探\n",
    "message = \"li huai\"\n",
    "message.upper()    #不能直接对message作用，这种操作方式一般是对列表操作\n",
    "print(message)\n",
    "message = message.upper()\n",
    "print(message)\n",
    "#区分method和上面 insert以及del的处理方式\n",
    "#method通常需要重新对变量赋值，而insert和del、append等作用在列表上不用重新赋值且效果永久保留"
   ]
  },
  {
   "cell_type": "code",
   "execution_count": null,
   "metadata": {},
   "outputs": [
    {
     "name": "stdout",
     "output_type": "stream",
     "text": [
      "['Benz', 'BMW', 'Audi']\n",
      "['Benz', 'BMW']\n",
      "Audi\n"
     ]
    }
   ],
   "source": [
    "# pop（弹出） 方法删除\n",
    "car = [\"Benz\",\"BMW\",\"Audi\"]\n",
    "print(car)\n",
    "car_popped = car.pop()\n",
    "print(car)\n",
    "print(car_popped)\n",
    "#尤其注意 只要使用pop后，被弹出的元素再原列表就不存在了；但可通过赋值再次访问"
   ]
  },
  {
   "cell_type": "code",
   "execution_count": null,
   "metadata": {},
   "outputs": [
    {
     "name": "stdout",
     "output_type": "stream",
     "text": [
      "['Benz', 'BMW']\n",
      "BMW\n"
     ]
    }
   ],
   "source": [
    "#试探\n",
    "car = [\"Benz\",\"BMW\",\"Audi\"]\n",
    "car.pop() #印证了列表直接作用的方式\n",
    "print(car)   \n",
    "print(car.pop()) #car.pop()可当做一个变量处理"
   ]
  },
  {
   "cell_type": "code",
   "execution_count": 8,
   "metadata": {},
   "outputs": [
    {
     "name": "stdout",
     "output_type": "stream",
     "text": [
      "The last car I owned was a audi.\n"
     ]
    }
   ],
   "source": [
    "# 应用：如果一个列表是按时间存储，pop打印可以是最后时间存储的量\n",
    "car = [\"Benz\",\"BMW\",\"Audi\"]\n",
    "print(f\"The last car I owned was a {car.pop().lower()}.\")"
   ]
  },
  {
   "cell_type": "code",
   "execution_count": null,
   "metadata": {},
   "outputs": [
    {
     "name": "stdout",
     "output_type": "stream",
     "text": [
      "Benz\n",
      "My frist car is BMW\n",
      "['Audi']\n"
     ]
    }
   ],
   "source": [
    "car = [\"Benz\",\"BMW\",\"Audi\"]\n",
    "first_car = car.pop(0)       #pop也可以弹出指定位置的元素\n",
    "print(first_car)\n",
    "print(f\"My frist car is {car.pop(0)}\") \n",
    "print(car)\n",
    "#无论何处出现pop，都将删除列表中一个元素\n",
    "#del和pop区分点在于以后是否再使用，如果需要使用则用pop，不需要则用del"
   ]
  },
  {
   "cell_type": "code",
   "execution_count": null,
   "metadata": {},
   "outputs": [
    {
     "name": "stdout",
     "output_type": "stream",
     "text": [
      "['Benz', 'BMW', 'Audi']\n",
      "['Benz', 'BMW']\n"
     ]
    }
   ],
   "source": [
    "#删除值 -- remove用于不知道删除列表中的值在哪个位置，但知道其值\n",
    "car = [\"Benz\",\"BMW\",\"Audi\"]\n",
    "print(car)\n",
    "car.remove(\"Audi\")\n",
    "print(car)"
   ]
  },
  {
   "cell_type": "code",
   "execution_count": null,
   "metadata": {},
   "outputs": [
    {
     "name": "stdout",
     "output_type": "stream",
     "text": [
      "['Benz', 'BMW']\n",
      "None\n"
     ]
    }
   ],
   "source": [
    "#试探1 \n",
    "car = [\"Benz\",\"BMW\",\"Audi\"]\n",
    "removed_car = car.remove(\"Audi\")\n",
    "print(car)\n",
    "print(removed_car)\n",
    "# remove只删除第一个指定的值，如果有多个需要删除，则需要使用循环"
   ]
  },
  {
   "cell_type": "code",
   "execution_count": null,
   "metadata": {},
   "outputs": [
    {
     "name": "stdout",
     "output_type": "stream",
     "text": [
      "['Benz', 'BMW']\n",
      "Audi\n"
     ]
    }
   ],
   "source": [
    "#试探2 \n",
    "car = [\"Benz\",\"BMW\",\"Audi\"]\n",
    "removed_car=\"Audi\"\n",
    "car.remove(removed_car)\n",
    "print(car)\n",
    "print(removed_car)\n",
    "\n",
    "# 结合试探1：remove用于列表中移除指定的元素，但不返回被移除的元素（区分pop）\n",
    "# 如实验一二行所示：removed_car = car.remove(\"Audi\")  -  打印出来为None\n",
    "# 若第二行为：removed_car = car.pop()  -  打印出来为Audi；因为pop会返回被移除的元素\n",
    "# 通过先对移除的值进行变量赋值，可以实现访问移除的元素"
   ]
  },
  {
   "cell_type": "markdown",
   "metadata": {},
   "source": [
    " <font size=\"4\">3.3 管理列表"
   ]
  },
  {
   "cell_type": "code",
   "execution_count": null,
   "metadata": {},
   "outputs": [
    {
     "name": "stdout",
     "output_type": "stream",
     "text": [
      "['audi', 'bmw', 'subaru', 'toyota']\n",
      "['toyota', 'subaru', 'bmw', 'audi']\n"
     ]
    }
   ],
   "source": [
    "#sort()对列表永久排序\n",
    "cars = ['bmw','audi','toyota','subaru']\n",
    "cars.sort()\n",
    "print(cars)\n",
    "cars.sort(reverse=True)\n",
    "print(cars)\n",
    "#sort为字母顺序排序，加入参数reverse=True为倒序\n",
    "#两者对列表顺序的改变都是永久的，无法恢复到原来的顺序"
   ]
  },
  {
   "cell_type": "code",
   "execution_count": null,
   "metadata": {},
   "outputs": [
    {
     "name": "stdout",
     "output_type": "stream",
     "text": [
      "['bmw', 'audi', 'toyota', 'subaru']\n",
      "\n",
      "There is a sorted list:\n",
      "['audi', 'bmw', 'subaru', 'toyota']\n",
      "\n",
      "There is a original list:\n",
      "['bmw', 'audi', 'toyota', 'subaru']\n",
      "\n",
      "There is a reverse sorted list:\n",
      "['toyota', 'subaru', 'bmw', 'audi']\n"
     ]
    }
   ],
   "source": [
    "#sorted()函数 对列表临时排序\n",
    "cars = ['bmw','audi','toyota','subaru']\n",
    "print(cars)\n",
    "print(\"\\nThere is a sorted list:\")\n",
    "print(sorted(cars))\n",
    "print(\"\\nThere is a original list:\")\n",
    "print(cars)\n",
    "#同理相反顺序\n",
    "print(\"\\nThere is a reverse sorted list:\")\n",
    "print(sorted(cars,reverse=True))\n",
    "# 注意sorted（）函数的作用方式以及参数的添加方式   临时排序"
   ]
  },
  {
   "cell_type": "code",
   "execution_count": null,
   "metadata": {},
   "outputs": [
    {
     "name": "stdout",
     "output_type": "stream",
     "text": [
      "['audi', 'bmw', 'subaru', 'toyota']\n"
     ]
    }
   ],
   "source": [
    "#试探 ： 函数能否单行独立作用\n",
    "cars = ['bmw','audi','toyota','subaru']\n",
    "cars2 = sorted(cars)\n",
    "print(cars2)\n",
    "# 若第二行为sorted（cars） 最后print（cars）将没有任何变化"
   ]
  },
  {
   "cell_type": "code",
   "execution_count": 12,
   "metadata": {},
   "outputs": [
    {
     "name": "stdout",
     "output_type": "stream",
     "text": [
      "['bmw', 'audi', 'toyota', 'subaru']\n",
      "['subaru', 'toyota', 'audi', 'bmw']\n",
      "['bmw', 'audi', 'toyota', 'subaru']\n"
     ]
    }
   ],
   "source": [
    "#反向打印列表\n",
    "cars = ['bmw','audi','toyota','subaru']\n",
    "print(cars)\n",
    "cars.reverse()  #reverse()不是字母顺序反转，而是反向打印列表\n",
    "print(cars)\n",
    "cars.reverse()  #再次反向打印列表，恢复原来的顺序\n",
    "print(cars)"
   ]
  },
  {
   "cell_type": "code",
   "execution_count": null,
   "metadata": {},
   "outputs": [
    {
     "data": {
      "text/plain": [
       "4"
      ]
     },
     "execution_count": 15,
     "metadata": {},
     "output_type": "execute_result"
    }
   ],
   "source": [
    "#确定列表的长度\n",
    "cars = ['bmw','audi','toyota','subaru']\n",
    "len(cars)\n",
    "#此处更严谨应该为print(len(cars))，因为jupyter会自动显示最后一个表达式的结果\n",
    "#len是一个内置函数，作用方式len（list）"
   ]
  },
  {
   "cell_type": "markdown",
   "metadata": {},
   "source": [
    " <font size=\"4\">3.4 使用列表时避免索引错误"
   ]
  },
  {
   "cell_type": "markdown",
   "metadata": {},
   "source": [
    " <font size=\"2\">注意：索引有差一特性，出现索引错误可以将其长度打印出来，检查索引是否越界"
   ]
  }
 ],
 "metadata": {
  "kernelspec": {
   "display_name": "Python 3",
   "language": "python",
   "name": "python3"
  },
  "language_info": {
   "codemirror_mode": {
    "name": "ipython",
    "version": 3
   },
   "file_extension": ".py",
   "mimetype": "text/x-python",
   "name": "python",
   "nbconvert_exporter": "python",
   "pygments_lexer": "ipython3",
   "version": "3.12.2"
  }
 },
 "nbformat": 4,
 "nbformat_minor": 2
}
