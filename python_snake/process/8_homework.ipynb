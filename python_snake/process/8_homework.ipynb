{
 "cells": [
  {
   "cell_type": "markdown",
   "metadata": {},
   "source": [
    " <font size=\"5\">第八章作业(2024.11.18)"
   ]
  },
  {
   "cell_type": "code",
   "execution_count": 2,
   "metadata": {},
   "outputs": [
    {
     "name": "stdout",
     "output_type": "stream",
     "text": [
      "I'm learning about functions\n"
     ]
    }
   ],
   "source": [
    "#8.1\n",
    "def display_message():\n",
    "    print(\"I'm learning about functions\")\n",
    "display_message()"
   ]
  },
  {
   "cell_type": "code",
   "execution_count": 3,
   "metadata": {},
   "outputs": [
    {
     "name": "stdout",
     "output_type": "stream",
     "text": [
      "One of my favourite books is Alice In Wonderland\n"
     ]
    }
   ],
   "source": [
    "#8.2\n",
    "def favourite_book(title):\n",
    "    print(f\"One of my favourite books is {title.title()}\")\n",
    "favourite_book(\"Alice in Wonderland\")"
   ]
  },
  {
   "cell_type": "code",
   "execution_count": null,
   "metadata": {},
   "outputs": [
    {
     "name": "stdout",
     "output_type": "stream",
     "text": [
      "the size of the shirt is L,and the text is I love python\n"
     ]
    }
   ],
   "source": [
    "#8.3\n",
    "def make_shirt(size,message):\n",
    "    \"\"\"概述要制作的T恤是怎么样的\"\"\"\n",
    "    print(f\"\\nI'm going to make a {size} t-shirt.\")\n",
    "    print(f\"It will say, {message}\")\n",
    "\n",
    "make_shirt(\"large\",\"I love python!\") #位置实参\n",
    "make_shirt(message=\"I love python!\",size=\"large\")  #关键字实参"
   ]
  },
  {
   "cell_type": "code",
   "execution_count": 5,
   "metadata": {},
   "outputs": [
    {
     "name": "stdout",
     "output_type": "stream",
     "text": [
      "\n",
      "The size of the shirt is large.\n",
      "The message is I love Python.\n",
      "\n",
      "The size of the shirt is medium.\n",
      "The message is hello world.\n"
     ]
    }
   ],
   "source": [
    "#8.4\n",
    "def make_shirt(size,message=\"I love Python\"):\n",
    "    print(f\"\\nThe size of the shirt is {size}.\")\n",
    "    print(f\"The message is {message}.\")\n",
    "\n",
    "make_shirt(\"large\")\n",
    "make_shirt(\"medium\",message = \"hello world\")"
   ]
  },
  {
   "cell_type": "code",
   "execution_count": 6,
   "metadata": {},
   "outputs": [
    {
     "name": "stdout",
     "output_type": "stream",
     "text": [
      "shanghai is in china\n"
     ]
    }
   ],
   "source": [
    "#8.5\n",
    "def describe_city(city,country):\n",
    "    print(f\"{city} is in {country}\")\n",
    "\n",
    "describe_city(\"shanghai\",\"china\")"
   ]
  },
  {
   "cell_type": "code",
   "execution_count": 7,
   "metadata": {},
   "outputs": [
    {
     "name": "stdout",
     "output_type": "stream",
     "text": [
      "Beijing,China\n"
     ]
    }
   ],
   "source": [
    "#8.6\n",
    "def city_country(city,country):\n",
    "    message = f\"{city},{country}\"\n",
    "    return message.title()\n",
    "print(city_country(\"beijing\",\"china\"))"
   ]
  },
  {
   "cell_type": "code",
   "execution_count": 15,
   "metadata": {},
   "outputs": [
    {
     "name": "stdout",
     "output_type": "stream",
     "text": [
      "{'singer': 'lihuai', 'album': 'wangcai'}\n",
      "{'singer': 'lihua', 'album': 'wangcai'}\n",
      "{'singer': 'xiaoming', 'album': 'wangcai'}\n",
      "{'singer': 'lihuai', 'album': 'wangcai', 'number': 99}\n",
      "{'singer': 'lihua', 'album': 'wangcai'}\n"
     ]
    }
   ],
   "source": [
    "#8.7\n",
    "def make_album(singer,album):\n",
    "    album_dict = {\"singer\":singer,\"album\":album}\n",
    "    return album_dict\n",
    "\n",
    "print(make_album(\"lihuai\",\"wangcai\"))\n",
    "print(make_album(\"lihua\",\"wangcai\"))\n",
    "print(make_album(\"xiaoming\",\"wangcai\"))\n",
    "\n",
    "\n",
    "def make_album(singer,album,number=None):\n",
    "    if number:\n",
    "        album_dict = {\"singer\":singer,\"album\":album,\"number\":number}\n",
    "        return album_dict\n",
    "    else:\n",
    "        album_dict = {\"singer\":singer,\"album\":album}\n",
    "        return album_dict\n",
    "    \n",
    "print(make_album(\"lihuai\",\"wangcai\",99))\n",
    "print(make_album(\"lihua\",\"wangcai\"))"
   ]
  },
  {
   "cell_type": "code",
   "execution_count": null,
   "metadata": {},
   "outputs": [
    {
     "name": "stdout",
     "output_type": "stream",
     "text": [
      "{'singer': 'Li Huai', 'album': 'Hot'}\n"
     ]
    }
   ],
   "source": [
    "#8.8\n",
    "def make_album(singer,album):\n",
    "    album_dict = {\"singer\":singer,\"album\":album}\n",
    "    return album_dict\n",
    "while True:\n",
    "    singer = input(\"please input the singer's name:\")\n",
    "    if singer !=\"q\":\n",
    "        singer = singer.title()\n",
    "    else:\n",
    "        break\n",
    "    album = input(\"please input the album's name:\")\n",
    "    if album!=\"q\":\n",
    "        album = album.title()\n",
    "    else:\n",
    "        break\n",
    "    album_dict = make_album(singer,album)\n",
    "    print(album_dict)\n",
    "\n"
   ]
  },
  {
   "cell_type": "code",
   "execution_count": 21,
   "metadata": {},
   "outputs": [
    {
     "name": "stdout",
     "output_type": "stream",
     "text": [
      "hello\n",
      "good\n",
      "nice\n",
      "damn\n"
     ]
    }
   ],
   "source": [
    "# 8.9\n",
    "list1 = [\"hello\",\"good\",\"nice\",\"damn\"]\n",
    "def show_messages(list):\n",
    "    for i in list:\n",
    "        print(i)   \n",
    "show_messages(list1)"
   ]
  },
  {
   "cell_type": "code",
   "execution_count": null,
   "metadata": {},
   "outputs": [
    {
     "name": "stdout",
     "output_type": "stream",
     "text": [
      "Sent message:damn\n",
      "Sent message:nice\n",
      "Sent message:good\n",
      "Sent message:hello\n",
      "[]\n",
      "['damn', 'nice', 'good', 'hello']\n"
     ]
    }
   ],
   "source": [
    "#8.10 -- 重要\n",
    "def send_messages(messages,sent_messages):\n",
    "    while messages:\n",
    "        current_message = messages.pop()\n",
    "        print(f\"Sent message:{current_message}\")\n",
    "        sent_messages.append(current_message)\n",
    "\n",
    "messages = [\"hello\",\"good\",\"nice\",\"damn\"]\n",
    "sent_messages = []\n",
    "send_messages(messages,sent_messages)\n",
    "print(messages)\n",
    "print(sent_messages)\n",
    "\n"
   ]
  },
  {
   "cell_type": "code",
   "execution_count": null,
   "metadata": {},
   "outputs": [
    {
     "name": "stdout",
     "output_type": "stream",
     "text": [
      "Sent message:damn\n",
      "Sent message:nice\n",
      "Sent message:good\n",
      "Sent message:hello\n",
      "['hello', 'good', 'nice', 'damn']\n",
      "['damn', 'nice', 'good', 'hello']\n"
     ]
    }
   ],
   "source": [
    "# 8.11\n",
    "def send_messages(messages,sent_messages):\n",
    "    while messages:\n",
    "        current_message = messages.pop()\n",
    "        print(f\"Sent message:{current_message}\")\n",
    "        sent_messages.append(current_message)\n",
    "\n",
    "messages = [\"hello\",\"good\",\"nice\",\"damn\"]\n",
    "sent_messages = []\n",
    "send_messages(messages[:],sent_messages)   #这一步函数作用微调\n",
    "print(messages)\n",
    "print(sent_messages)"
   ]
  },
  {
   "cell_type": "code",
   "execution_count": 32,
   "metadata": {},
   "outputs": [
    {
     "name": "stdout",
     "output_type": "stream",
     "text": [
      "there are what we need in the sandwich:\n",
      "tomato\n",
      "egg\n",
      "ham\n",
      "there are what we need in the sandwich:\n",
      "tomato\n",
      "egg\n",
      "there are what we need in the sandwich:\n",
      "tomato\n"
     ]
    }
   ],
   "source": [
    "# 8.12\n",
    "def des_sandwich(*items):\n",
    "    print(\"there are what we need in the sandwich:\")\n",
    "    for item in items:\n",
    "        print(item)\n",
    "\n",
    "des_sandwich(\"tomato\",\"egg\",\"ham\")\n",
    "des_sandwich(\"tomato\",\"egg\")\n",
    "des_sandwich(\"tomato\")"
   ]
  },
  {
   "cell_type": "code",
   "execution_count": 1,
   "metadata": {},
   "outputs": [
    {
     "data": {
      "text/plain": [
       "{'location': 'princeton',\n",
       " 'field': 'physics',\n",
       " 'first_name': 'albert',\n",
       " 'last_name': 'einstein'}"
      ]
     },
     "execution_count": 1,
     "metadata": {},
     "output_type": "execute_result"
    }
   ],
   "source": [
    "# 8.13\n",
    "import user_profile\n",
    "user_profile.build_profile(\"albert\", \"einstein\", location=\"princeton\", field=\"physics\")"
   ]
  },
  {
   "cell_type": "code",
   "execution_count": 2,
   "metadata": {},
   "outputs": [
    {
     "name": "stdout",
     "output_type": "stream",
     "text": [
      "{'color': 'blue', 'tow_package': True, 'creator': 'subaru', 'model': 'outback'}\n"
     ]
    }
   ],
   "source": [
    "# 8.14\n",
    "def car_messages(creator,model,**car_info):\n",
    "    car_info['creator']=creator\n",
    "    car_info['model']=model\n",
    "    return car_info\n",
    "car = car_messages('subaru','outback',color='blue',tow_package=True)\n",
    "print(car)"
   ]
  },
  {
   "cell_type": "code",
   "execution_count": null,
   "metadata": {},
   "outputs": [],
   "source": [
    "# 8.15\n",
    "# import printing_functions as pf\n",
    "# from printing_functions import print_models\n"
   ]
  }
 ],
 "metadata": {
  "kernelspec": {
   "display_name": "Python 3",
   "language": "python",
   "name": "python3"
  },
  "language_info": {
   "codemirror_mode": {
    "name": "ipython",
    "version": 3
   },
   "file_extension": ".py",
   "mimetype": "text/x-python",
   "name": "python",
   "nbconvert_exporter": "python",
   "pygments_lexer": "ipython3",
   "version": "3.12.2"
  }
 },
 "nbformat": 4,
 "nbformat_minor": 2
}
