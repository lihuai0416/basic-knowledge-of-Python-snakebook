{
 "cells": [
  {
   "cell_type": "markdown",
   "metadata": {
    "vscode": {
     "languageId": "plaintext"
    }
   },
   "source": [
    " <font size=\"5\">第九章作业(2024.11.22)"
   ]
  },
  {
   "cell_type": "code",
   "execution_count": null,
   "metadata": {},
   "outputs": [
    {
     "name": "stdout",
     "output_type": "stream",
     "text": [
      "Restaurant name: Example\n",
      "Cuisine type: Example\n",
      "Example is open!\n"
     ]
    }
   ],
   "source": [
    "# 9.1 \n",
    "class Restaurant:\n",
    "    def __init__(self, restaurant_name, cuisine_type):\n",
    "        self.restaurant_name = restaurant_name\n",
    "        self.cuisine_type = cuisine_type\n",
    "    \n",
    "    def describe_restaurant(self):\n",
    "        print(f\"Restaurant name: {self.restaurant_name}\")\n",
    "        print(f\"Cuisine type: {self.cuisine_type}\")\n",
    "\n",
    "    def open_restaurant(self):\n",
    "        print(f\"{self.restaurant_name} is open!\")\n",
    "\n",
    "example = Restaurant(\"Example\", \"Example\")\n",
    "example.describe_restaurant()\n",
    "example.open_restaurant()\n",
    "\n",
    "\n"
   ]
  },
  {
   "cell_type": "code",
   "execution_count": null,
   "metadata": {},
   "outputs": [],
   "source": [
    "# 9.2\n",
    "# 略"
   ]
  },
  {
   "cell_type": "code",
   "execution_count": 2,
   "metadata": {},
   "outputs": [
    {
     "name": "stdout",
     "output_type": "stream",
     "text": [
      "First name: John\n",
      "Last name: Doe\n",
      "Hello, John Doe\n"
     ]
    }
   ],
   "source": [
    "# 9.3\n",
    "class User:\n",
    "    def __init__(self,first_name,last_name):\n",
    "        self.first_name = first_name\n",
    "        self.last_name = last_name\n",
    "    def describe_user(self):\n",
    "        print(f\"First name: {self.first_name}\")\n",
    "        print(f\"Last name: {self.last_name}\")\n",
    "    def greet_user(self):\n",
    "        print(f\"Hello, {self.first_name} {self.last_name}\")\n",
    "    \n",
    "user1 = User('John','Doe')\n",
    "user1.describe_user()\n",
    "user1.greet_user()\n",
    "\n",
    "    "
   ]
  },
  {
   "cell_type": "code",
   "execution_count": 4,
   "metadata": {},
   "outputs": [
    {
     "name": "stdout",
     "output_type": "stream",
     "text": [
      "Restaurant name: Example\n",
      "Cuisine type: Example\n",
      "Example is open!\n",
      "0\n",
      "10\n",
      "15\n"
     ]
    }
   ],
   "source": [
    "# 9.4\n",
    "class Restaurant:\n",
    "    def __init__(self, restaurant_name, cuisine_type):\n",
    "        self.restaurant_name = restaurant_name\n",
    "        self.cuisine_type = cuisine_type\n",
    "        self.number_served = 0\n",
    "\n",
    "    \n",
    "    def describe_restaurant(self):\n",
    "        print(f\"Restaurant name: {self.restaurant_name}\")\n",
    "        print(f\"Cuisine type: {self.cuisine_type}\")\n",
    "\n",
    "    def open_restaurant(self):\n",
    "        print(f\"{self.restaurant_name} is open!\")\n",
    "\n",
    "    def set_number_served(self, number):\n",
    "        self.number_served = number\n",
    "\n",
    "    def increment_number_served(self, number):\n",
    "        self.number_served += number\n",
    "\n",
    "example = Restaurant(\"Example\", \"Example\")\n",
    "example.describe_restaurant()\n",
    "example.open_restaurant()\n",
    "\n",
    "print(example.number_served)\n",
    "example.set_number_served(10)\n",
    "print(example.number_served)\n",
    "example.increment_number_served(5)\n",
    "print(example.number_served)"
   ]
  },
  {
   "cell_type": "code",
   "execution_count": 15,
   "metadata": {},
   "outputs": [
    {
     "name": "stdout",
     "output_type": "stream",
     "text": [
      "First name: John\n",
      "Last name: Doe\n",
      "Hello, John Doe\n",
      "2\n",
      "0\n"
     ]
    }
   ],
   "source": [
    "# 9.5\n",
    "class User:\n",
    "    def __init__(self,first_name,last_name,login_attempts=0):\n",
    "        self.first_name = first_name\n",
    "        self.last_name = last_name\n",
    "        self.login_attempts = login_attempts\n",
    "    def describe_user(self):\n",
    "        print(f\"First name: {self.first_name}\")\n",
    "        print(f\"Last name: {self.last_name}\")\n",
    "    def greet_user(self):\n",
    "        print(f\"Hello, {self.first_name} {self.last_name}\")\n",
    "    def increment_login_attempts(self):\n",
    "        self.login_attempts += 1\n",
    "    def reset_login_attempts(self):\n",
    "        self.login_attempts = 0\n",
    "    \n",
    "user1 = User('John','Doe')\n",
    "user1.describe_user()\n",
    "user1.greet_user()\n",
    "user1.increment_login_attempts()\n",
    "user1.increment_login_attempts()\n",
    "print(user1.login_attempts)\n",
    "user1.reset_login_attempts()\n",
    "print(user1.login_attempts)\n",
    "\n"
   ]
  },
  {
   "cell_type": "code",
   "execution_count": 16,
   "metadata": {},
   "outputs": [
    {
     "name": "stdout",
     "output_type": "stream",
     "text": [
      "Restaurant name: Example\n",
      "Cuisine type: Example\n",
      "Example is open!\n",
      "Restaurant name: Example\n",
      "Cuisine type: Example\n",
      "Flavors available:\n",
      "- Vanilla\n",
      "- Chocolate\n",
      "- Strawberry\n"
     ]
    }
   ],
   "source": [
    "# 9.6 \n",
    "class Restaurant:\n",
    "    def __init__(self, restaurant_name, cuisine_type):\n",
    "        self.restaurant_name = restaurant_name\n",
    "        self.cuisine_type = cuisine_type\n",
    "    \n",
    "    def describe_restaurant(self):\n",
    "        print(f\"Restaurant name: {self.restaurant_name}\")\n",
    "        print(f\"Cuisine type: {self.cuisine_type}\")\n",
    "\n",
    "    def open_restaurant(self):\n",
    "        print(f\"{self.restaurant_name} is open!\")\n",
    "\n",
    "example = Restaurant(\"Example\", \"Example\")\n",
    "example.describe_restaurant()\n",
    "example.open_restaurant()\n",
    "\n",
    "class IceCreamStand(Restaurant):\n",
    "    def __init__(self, restaurant_name, cuisine_type):\n",
    "        super().__init__(restaurant_name, cuisine_type)\n",
    "        self.flavors = []\n",
    "        \n",
    "    def display_flavors(self):\n",
    "        print(\"Flavors available:\")\n",
    "        for flavor in self.flavors:\n",
    "            print(f\"- {flavor}\")\n",
    "\n",
    "ice_cream_stand = IceCreamStand(\"Example\", \"Example\")\n",
    "ice_cream_stand.flavors = [\"Vanilla\", \"Chocolate\", \"Strawberry\"]\n",
    "ice_cream_stand.describe_restaurant()\n",
    "ice_cream_stand.display_flavors()\n",
    "\n",
    "\n"
   ]
  },
  {
   "cell_type": "code",
   "execution_count": 17,
   "metadata": {},
   "outputs": [
    {
     "name": "stdout",
     "output_type": "stream",
     "text": [
      "First name: John\n",
      "Last name: Doe\n",
      "Hello, John Doe\n",
      "Admin privileges: ['can add post', 'can delete post', 'can ban user']\n"
     ]
    }
   ],
   "source": [
    "# 9.7 \n",
    "class User:\n",
    "    def __init__(self,first_name,last_name):\n",
    "        self.first_name = first_name\n",
    "        self.last_name = last_name\n",
    "    def describe_user(self):\n",
    "        print(f\"First name: {self.first_name}\")\n",
    "        print(f\"Last name: {self.last_name}\")\n",
    "    def greet_user(self):\n",
    "        print(f\"Hello, {self.first_name} {self.last_name}\")\n",
    "    \n",
    "user1 = User('John','Doe')\n",
    "user1.describe_user()\n",
    "user1.greet_user()\n",
    "\n",
    "class Admin(User):\n",
    "    def __init__(self,first_name,last_name):\n",
    "        super().__init__(first_name,last_name)\n",
    "        self.privileges = ['can add post','can delete post','can ban user']\n",
    "\n",
    "    def show_privileges(self):\n",
    "        print(f\"Admin privileges: {self.privileges}\")\n",
    "    \n",
    "admin = Admin('John','Doe')\n",
    "admin.show_privileges()\n"
   ]
  },
  {
   "cell_type": "code",
   "execution_count": 22,
   "metadata": {},
   "outputs": [
    {
     "name": "stdout",
     "output_type": "stream",
     "text": [
      "The administrator has the following privileges:\n",
      "can add post\n",
      "can delete post\n",
      "can ban user\n"
     ]
    }
   ],
   "source": [
    "# 9.8 \n",
    "class User:\n",
    "    def __init__(self,first_name,last_name):\n",
    "        self.first_name = first_name\n",
    "        self.last_name = last_name\n",
    "    def describe_user(self):\n",
    "        print(f\"First name: {self.first_name}\")\n",
    "        print(f\"Last name: {self.last_name}\")\n",
    "    def greet_user(self):\n",
    "        print(f\"Hello, {self.first_name} {self.last_name}\")\n",
    "    \n",
    "\n",
    "class Admin(User):\n",
    "    def __init__(self,first_name,last_name):\n",
    "        super().__init__(first_name,last_name)\n",
    "        self.privileges = ['can add post','can delete post','can ban user']\n",
    "\n",
    "    def show_privileges(self):\n",
    "        print(f\"Admin privileges: {self.privileges}\")\n",
    "    \n",
    "admin = Admin('John','Doe')\n",
    "\n",
    "class Privileges():\n",
    "    def __init__(self,privileges=[\"can add post\",\"can delete post\",\"can ban user\"]):\n",
    "        self.privileges = privileges\n",
    "    def show_privileges(self):\n",
    "        print(\"The administrator has the following privileges:\")\n",
    "        for privilege in self.privileges:\n",
    "            print(privilege)\n",
    "\n",
    "class Admin(User):\n",
    "    def __init__(self,first_name,last_name):\n",
    "        super().__init__(first_name,last_name)\n",
    "        self.privileges = Privileges()\n",
    "\n",
    "admin = Admin('John','Doe')\n",
    "admin.privileges.show_privileges()\n",
    "\n",
    "\n",
    "        "
   ]
  },
  {
   "cell_type": "code",
   "execution_count": null,
   "metadata": {},
   "outputs": [],
   "source": [
    "#9.9 详见car.py"
   ]
  },
  {
   "cell_type": "code",
   "execution_count": null,
   "metadata": {},
   "outputs": [],
   "source": [
    "# 9.10-12 略"
   ]
  },
  {
   "cell_type": "code",
   "execution_count": null,
   "metadata": {},
   "outputs": [],
   "source": [
    "# 9.13\n",
    "from random import randint\n",
    "from random import choice\n",
    "\n",
    "class Die:\n",
    "    \"\"\"表示一个骰子的类\"\"\"\n",
    "    def __init__(self,num_sides=6):\n",
    "        \"\"\"骰子默认为6个面\"\"\"\n",
    "        self.num_sides = num_sides\n",
    "    def roll(self):\n",
    "        \"\"\"返回一个1-6之间的随机值\"\"\"\n",
    "        return randint(1,self.num_sides)\n",
    "\n",
    "die = Die()\n",
    "results = []\n",
    "for roll_num in range(10):\n",
    "    result = die.roll()\n",
    "    results.append(result)\n",
    "print(f\"10 rolls of a {die.num_sides}-sided die:\")\n",
    "print(results)\n",
    "\n"
   ]
  },
  {
   "cell_type": "code",
   "execution_count": null,
   "metadata": {},
   "outputs": [],
   "source": [
    "# 9.14 \n",
    "from random import randint\n",
    "from random import choice\n",
    "\n",
    "possibilities = [1,2,3,4,5,6,7,8,9,10,\"a\",\"b\",\"c\",\"d\",\"e\"]\n",
    "winning_ticket = []\n",
    "print(\"Let's roll!\")\n",
    "while len(winning_ticket) < 4:\n",
    "    pulled_item = choice(possibilities)\n",
    "    if pulled_item not in winning_ticket:\n",
    "        print(f\"  We pulled a {pulled_item}!\")\n",
    "        winning_ticket.append(pulled_item)\n",
    "print(f\"\\nThe winning ticket is {winning_ticket}!\")"
   ]
  },
  {
   "cell_type": "code",
   "execution_count": null,
   "metadata": {},
   "outputs": [],
   "source": [
    "# 9.15 \n",
    "from random import choice \n",
    "def get_winning_ticket(possibilities):\n",
    "    winning_ticket = []\n",
    "    while len(winning_ticket) < 4:\n",
    "        pulled_item = choice(possibilities)\n",
    "        if pulled_item not in winning_ticket:\n",
    "            winning_ticket.append(pulled_item)\n",
    "    return winning_ticket\n",
    "def check_ticket(played_ticket, winning_ticket):\n",
    "    for element in played_ticket:\n",
    "        if element not in winning_ticket:\n",
    "            return False\n",
    "    return True\n",
    "def make_random_ticket(possibilities):\n",
    "    ticket = []\n",
    "    while len(ticket) < 4:\n",
    "        pulled_item = choice(possibilities)\n",
    "        if pulled_item not in ticket:\n",
    "            ticket.append(pulled_item)\n",
    "    return ticket\n",
    "possibilities = [1,2,3,4,5,6,7,8,9,10,'a','b','c','d','e']\n",
    "winning_ticket = get_winning_ticket(possibilities)\n",
    "plays = 0\n",
    "won = False\n",
    "max_tries = 1_000_000\n",
    "while not won:\n",
    "    new_ticket = make_random_ticket(possibilities)\n",
    "    won = check_ticket(new_ticket, winning_ticket)\n",
    "    plays += 1\n",
    "    if plays >= max_tries:\n",
    "        break\n",
    "if won:\n",
    "    print(\"We have a winning ticket!\")\n",
    "    print(f\"Your ticket: {new_ticket}\")\n",
    "    print(f\"Winning ticket: {winning_ticket}\")\n",
    "    print(f\"It only took {plays} tries to win!\")\n",
    "else:\n",
    "    print(f\"Tried {plays} times, without pulling a winner. :(\")\n",
    "    print(f\"Your ticket: {new_ticket}\")\n",
    "    print(f\"Winning ticket: {winning_ticket}\")"
   ]
  }
 ],
 "metadata": {
  "kernelspec": {
   "display_name": "Python 3",
   "language": "python",
   "name": "python3"
  },
  "language_info": {
   "codemirror_mode": {
    "name": "ipython",
    "version": 3
   },
   "file_extension": ".py",
   "mimetype": "text/x-python",
   "name": "python",
   "nbconvert_exporter": "python",
   "pygments_lexer": "ipython3",
   "version": "3.12.2"
  }
 },
 "nbformat": 4,
 "nbformat_minor": 2
}
